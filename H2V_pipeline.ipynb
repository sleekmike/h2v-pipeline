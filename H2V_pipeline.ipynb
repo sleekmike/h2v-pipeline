{
  "cells": [
    {
      "cell_type": "code",
      "execution_count": 14,
      "metadata": {
        "colab": {
          "base_uri": "https://localhost:8080/"
        },
        "id": "Y4fmDrJUuXzD",
        "outputId": "932c3212-dd7b-4faa-c67c-afb948c04e4f"
      },
      "outputs": [
        {
          "name": "stdout",
          "output_type": "stream",
          "text": [
            "Requirement already satisfied: scenedetect[opencv] in /usr/local/lib/python3.11/dist-packages (0.6.6)\n",
            "Requirement already satisfied: Click in /usr/local/lib/python3.11/dist-packages (from scenedetect[opencv]) (8.1.8)\n",
            "Requirement already satisfied: numpy in /usr/local/lib/python3.11/dist-packages (from scenedetect[opencv]) (2.0.2)\n",
            "Requirement already satisfied: platformdirs in /usr/local/lib/python3.11/dist-packages (from scenedetect[opencv]) (4.3.7)\n",
            "Requirement already satisfied: tqdm in /usr/local/lib/python3.11/dist-packages (from scenedetect[opencv]) (4.67.1)\n",
            "Requirement already satisfied: opencv-python in /usr/local/lib/python3.11/dist-packages (from scenedetect[opencv]) (4.11.0.86)\n"
          ]
        }
      ],
      "source": [
        "pip install --upgrade \"scenedetect[opencv]\""
      ]
    },
    {
      "cell_type": "code",
      "execution_count": 15,
      "metadata": {
        "colab": {
          "base_uri": "https://localhost:8080/"
        },
        "id": "_hwT0ARFuY9E",
        "outputId": "ec1048ca-8050-4dc7-996d-965eb7709a9b"
      },
      "outputs": [
        {
          "name": "stdout",
          "output_type": "stream",
          "text": [
            "Requirement already satisfied: mediapipe==0.10.14 in /usr/local/lib/python3.11/dist-packages (0.10.14)\n",
            "Requirement already satisfied: librosa in /usr/local/lib/python3.11/dist-packages (0.11.0)\n",
            "Requirement already satisfied: absl-py in /usr/local/lib/python3.11/dist-packages (from mediapipe==0.10.14) (1.4.0)\n",
            "Requirement already satisfied: attrs>=19.1.0 in /usr/local/lib/python3.11/dist-packages (from mediapipe==0.10.14) (25.3.0)\n",
            "Requirement already satisfied: flatbuffers>=2.0 in /usr/local/lib/python3.11/dist-packages (from mediapipe==0.10.14) (25.2.10)\n",
            "Requirement already satisfied: jax in /usr/local/lib/python3.11/dist-packages (from mediapipe==0.10.14) (0.5.2)\n",
            "Requirement already satisfied: jaxlib in /usr/local/lib/python3.11/dist-packages (from mediapipe==0.10.14) (0.5.1)\n",
            "Requirement already satisfied: matplotlib in /usr/local/lib/python3.11/dist-packages (from mediapipe==0.10.14) (3.10.0)\n",
            "Requirement already satisfied: numpy in /usr/local/lib/python3.11/dist-packages (from mediapipe==0.10.14) (2.0.2)\n",
            "Requirement already satisfied: opencv-contrib-python in /usr/local/lib/python3.11/dist-packages (from mediapipe==0.10.14) (4.11.0.86)\n",
            "Requirement already satisfied: protobuf<5,>=4.25.3 in /usr/local/lib/python3.11/dist-packages (from mediapipe==0.10.14) (4.25.6)\n",
            "Requirement already satisfied: sounddevice>=0.4.4 in /usr/local/lib/python3.11/dist-packages (from mediapipe==0.10.14) (0.5.1)\n",
            "Requirement already satisfied: audioread>=2.1.9 in /usr/local/lib/python3.11/dist-packages (from librosa) (3.0.1)\n",
            "Requirement already satisfied: numba>=0.51.0 in /usr/local/lib/python3.11/dist-packages (from librosa) (0.60.0)\n",
            "Requirement already satisfied: scipy>=1.6.0 in /usr/local/lib/python3.11/dist-packages (from librosa) (1.14.1)\n",
            "Requirement already satisfied: scikit-learn>=1.1.0 in /usr/local/lib/python3.11/dist-packages (from librosa) (1.6.1)\n",
            "Requirement already satisfied: joblib>=1.0 in /usr/local/lib/python3.11/dist-packages (from librosa) (1.4.2)\n",
            "Requirement already satisfied: decorator>=4.3.0 in /usr/local/lib/python3.11/dist-packages (from librosa) (4.4.2)\n",
            "Requirement already satisfied: soundfile>=0.12.1 in /usr/local/lib/python3.11/dist-packages (from librosa) (0.13.1)\n",
            "Requirement already satisfied: pooch>=1.1 in /usr/local/lib/python3.11/dist-packages (from librosa) (1.8.2)\n",
            "Requirement already satisfied: soxr>=0.3.2 in /usr/local/lib/python3.11/dist-packages (from librosa) (0.5.0.post1)\n",
            "Requirement already satisfied: typing_extensions>=4.1.1 in /usr/local/lib/python3.11/dist-packages (from librosa) (4.13.0)\n",
            "Requirement already satisfied: lazy_loader>=0.1 in /usr/local/lib/python3.11/dist-packages (from librosa) (0.4)\n",
            "Requirement already satisfied: msgpack>=1.0 in /usr/local/lib/python3.11/dist-packages (from librosa) (1.1.0)\n",
            "Requirement already satisfied: packaging in /usr/local/lib/python3.11/dist-packages (from lazy_loader>=0.1->librosa) (24.2)\n",
            "Requirement already satisfied: llvmlite<0.44,>=0.43.0dev0 in /usr/local/lib/python3.11/dist-packages (from numba>=0.51.0->librosa) (0.43.0)\n",
            "Requirement already satisfied: platformdirs>=2.5.0 in /usr/local/lib/python3.11/dist-packages (from pooch>=1.1->librosa) (4.3.7)\n",
            "Requirement already satisfied: requests>=2.19.0 in /usr/local/lib/python3.11/dist-packages (from pooch>=1.1->librosa) (2.32.3)\n",
            "Requirement already satisfied: threadpoolctl>=3.1.0 in /usr/local/lib/python3.11/dist-packages (from scikit-learn>=1.1.0->librosa) (3.6.0)\n",
            "Requirement already satisfied: CFFI>=1.0 in /usr/local/lib/python3.11/dist-packages (from sounddevice>=0.4.4->mediapipe==0.10.14) (1.17.1)\n",
            "Requirement already satisfied: ml_dtypes>=0.4.0 in /usr/local/lib/python3.11/dist-packages (from jax->mediapipe==0.10.14) (0.4.1)\n",
            "Requirement already satisfied: opt_einsum in /usr/local/lib/python3.11/dist-packages (from jax->mediapipe==0.10.14) (3.4.0)\n",
            "Requirement already satisfied: contourpy>=1.0.1 in /usr/local/lib/python3.11/dist-packages (from matplotlib->mediapipe==0.10.14) (1.3.1)\n",
            "Requirement already satisfied: cycler>=0.10 in /usr/local/lib/python3.11/dist-packages (from matplotlib->mediapipe==0.10.14) (0.12.1)\n",
            "Requirement already satisfied: fonttools>=4.22.0 in /usr/local/lib/python3.11/dist-packages (from matplotlib->mediapipe==0.10.14) (4.56.0)\n",
            "Requirement already satisfied: kiwisolver>=1.3.1 in /usr/local/lib/python3.11/dist-packages (from matplotlib->mediapipe==0.10.14) (1.4.8)\n",
            "Requirement already satisfied: pillow>=8 in /usr/local/lib/python3.11/dist-packages (from matplotlib->mediapipe==0.10.14) (11.1.0)\n",
            "Requirement already satisfied: pyparsing>=2.3.1 in /usr/local/lib/python3.11/dist-packages (from matplotlib->mediapipe==0.10.14) (3.2.3)\n",
            "Requirement already satisfied: python-dateutil>=2.7 in /usr/local/lib/python3.11/dist-packages (from matplotlib->mediapipe==0.10.14) (2.8.2)\n",
            "Requirement already satisfied: pycparser in /usr/local/lib/python3.11/dist-packages (from CFFI>=1.0->sounddevice>=0.4.4->mediapipe==0.10.14) (2.22)\n",
            "Requirement already satisfied: six>=1.5 in /usr/local/lib/python3.11/dist-packages (from python-dateutil>=2.7->matplotlib->mediapipe==0.10.14) (1.17.0)\n",
            "Requirement already satisfied: charset-normalizer<4,>=2 in /usr/local/lib/python3.11/dist-packages (from requests>=2.19.0->pooch>=1.1->librosa) (3.4.1)\n",
            "Requirement already satisfied: idna<4,>=2.5 in /usr/local/lib/python3.11/dist-packages (from requests>=2.19.0->pooch>=1.1->librosa) (3.10)\n",
            "Requirement already satisfied: urllib3<3,>=1.21.1 in /usr/local/lib/python3.11/dist-packages (from requests>=2.19.0->pooch>=1.1->librosa) (2.3.0)\n",
            "Requirement already satisfied: certifi>=2017.4.17 in /usr/local/lib/python3.11/dist-packages (from requests>=2.19.0->pooch>=1.1->librosa) (2025.1.31)\n"
          ]
        }
      ],
      "source": [
        "!pip install mediapipe==0.10.14 librosa"
      ]
    },
    {
      "cell_type": "markdown",
      "metadata": {},
      "source": [
        "### Make sure to upload the \"input_video.mp4\" file, before running the cell below:"
      ]
    },
    {
      "cell_type": "code",
      "execution_count": null,
      "metadata": {
        "colab": {
          "base_uri": "https://localhost:8080/"
        },
        "id": "jPkDoiqz9nmD",
        "outputId": "550d20a6-cee0-4fab-f768-561ea9822bf9"
      },
      "outputs": [
        {
          "name": "stderr",
          "output_type": "stream",
          "text": [
            "ERROR:pyscenedetect:VideoManager is deprecated and will be removed.\n",
            "INFO:pyscenedetect:Loaded 1 video, framerate: 23.976 FPS, resolution: 1920 x 1080\n",
            "INFO:pyscenedetect:Detecting scenes...\n"
          ]
        },
        {
          "name": "stdout",
          "output_type": "stream",
          "text": [
            "Detecting scene boundaries...\n",
            "Detected 150 scenes in the video\n"
          ]
        },
        {
          "name": "stderr",
          "output_type": "stream",
          "text": [
            "\rProcessing frames:   0%|          | 0/11231 [00:00<?, ?it/s]"
          ]
        },
        {
          "name": "stdout",
          "output_type": "stream",
          "text": [
            "New shot detected at frame 0\n"
          ]
        },
        {
          "name": "stderr",
          "output_type": "stream",
          "text": [
            "Processing frames:   0%|          | 11/11231 [00:01<30:50,  6.06it/s]"
          ]
        },
        {
          "name": "stdout",
          "output_type": "stream",
          "text": [
            "Locking onto stable point (960, 540) for shot 1\n"
          ]
        },
        {
          "name": "stderr",
          "output_type": "stream",
          "text": [
            "Processing frames:   0%|          | 25/11231 [00:03<29:33,  6.32it/s]"
          ]
        },
        {
          "name": "stdout",
          "output_type": "stream",
          "text": [
            "New shot detected at frame 24\n"
          ]
        },
        {
          "name": "stderr",
          "output_type": "stream",
          "text": [
            "Processing frames:   1%|          | 57/11231 [00:08<24:31,  7.59it/s]WARNING:py.warnings:/usr/local/lib/python3.11/dist-packages/google/protobuf/symbol_database.py:55: UserWarning: SymbolDatabase.GetPrototype() is deprecated. Please use message_factory.GetMessageClass() instead. SymbolDatabase.GetPrototype() will be removed soon.\n",
            "  warnings.warn('SymbolDatabase.GetPrototype() is deprecated. Please '\n",
            "\n",
            "Processing frames:   1%|          | 82/11231 [00:11<26:05,  7.12it/s]"
          ]
        },
        {
          "name": "stdout",
          "output_type": "stream",
          "text": [
            "New shot detected at frame 81\n"
          ]
        },
        {
          "name": "stderr",
          "output_type": "stream",
          "text": [
            "Processing frames:   1%|          | 101/11231 [00:14<40:18,  4.60it/s]"
          ]
        },
        {
          "name": "stdout",
          "output_type": "stream",
          "text": [
            "Locking onto stable point (1327, 908) for shot 3\n"
          ]
        },
        {
          "name": "stderr",
          "output_type": "stream",
          "text": [
            "Processing frames:   1%|          | 124/11231 [00:19<27:07,  6.83it/s]"
          ]
        },
        {
          "name": "stdout",
          "output_type": "stream",
          "text": [
            "New shot detected at frame 123\n"
          ]
        },
        {
          "name": "stderr",
          "output_type": "stream",
          "text": [
            "Processing frames:   1%|          | 140/11231 [00:22<26:00,  7.11it/s]"
          ]
        },
        {
          "name": "stdout",
          "output_type": "stream",
          "text": [
            "Locking onto stable point (1119, 632) for shot 4\n"
          ]
        },
        {
          "name": "stderr",
          "output_type": "stream",
          "text": [
            "Processing frames:   1%|▏         | 152/11231 [00:23<15:06, 12.22it/s]"
          ]
        },
        {
          "name": "stdout",
          "output_type": "stream",
          "text": [
            "New shot detected at frame 152\n"
          ]
        },
        {
          "name": "stderr",
          "output_type": "stream",
          "text": [
            "Processing frames:   2%|▏         | 176/11231 [00:26<19:26,  9.47it/s]"
          ]
        },
        {
          "name": "stdout",
          "output_type": "stream",
          "text": [
            "New shot detected at frame 174\n"
          ]
        },
        {
          "name": "stderr",
          "output_type": "stream",
          "text": [
            "Processing frames:   2%|▏         | 200/11231 [00:27<11:41, 15.72it/s]"
          ]
        },
        {
          "name": "stdout",
          "output_type": "stream",
          "text": [
            "Locking onto stable point (465, 686) for shot 6\n"
          ]
        },
        {
          "name": "stderr",
          "output_type": "stream",
          "text": [
            "Processing frames:   2%|▏         | 240/11231 [00:31<15:41, 11.68it/s]"
          ]
        },
        {
          "name": "stdout",
          "output_type": "stream",
          "text": [
            "New shot detected at frame 239\n"
          ]
        },
        {
          "name": "stderr",
          "output_type": "stream",
          "text": [
            "Processing frames:   2%|▏         | 272/11231 [00:33<11:30, 15.88it/s]"
          ]
        },
        {
          "name": "stdout",
          "output_type": "stream",
          "text": [
            "Locking onto stable point (496, 572) for shot 7\n"
          ]
        },
        {
          "name": "stderr",
          "output_type": "stream",
          "text": [
            "Processing frames:   3%|▎         | 332/11231 [00:37<11:24, 15.91it/s]"
          ]
        },
        {
          "name": "stdout",
          "output_type": "stream",
          "text": [
            "New shot detected at frame 330\n"
          ]
        },
        {
          "name": "stderr",
          "output_type": "stream",
          "text": [
            "Processing frames:   3%|▎         | 344/11231 [00:38<11:23, 15.93it/s]"
          ]
        },
        {
          "name": "stdout",
          "output_type": "stream",
          "text": [
            "Locking onto stable point (937, 522) for shot 8\n"
          ]
        },
        {
          "name": "stderr",
          "output_type": "stream",
          "text": [
            "Processing frames:   3%|▎         | 382/11231 [00:40<11:52, 15.22it/s]"
          ]
        },
        {
          "name": "stdout",
          "output_type": "stream",
          "text": [
            "New shot detected at frame 380\n"
          ]
        },
        {
          "name": "stderr",
          "output_type": "stream",
          "text": [
            "Processing frames:   4%|▎         | 394/11231 [00:41<15:51, 11.39it/s]"
          ]
        },
        {
          "name": "stdout",
          "output_type": "stream",
          "text": [
            "Locking onto stable point (1273, 675) for shot 9\n"
          ]
        },
        {
          "name": "stderr",
          "output_type": "stream",
          "text": [
            "Processing frames:   4%|▍         | 458/11231 [00:48<25:13,  7.12it/s]"
          ]
        },
        {
          "name": "stdout",
          "output_type": "stream",
          "text": [
            "New shot detected at frame 457\n"
          ]
        },
        {
          "name": "stderr",
          "output_type": "stream",
          "text": [
            "Processing frames:   4%|▍         | 495/11231 [00:53<24:01,  7.45it/s]"
          ]
        },
        {
          "name": "stdout",
          "output_type": "stream",
          "text": [
            "Locking onto stable point (923, 406) for shot 10\n"
          ]
        },
        {
          "name": "stderr",
          "output_type": "stream",
          "text": [
            "Processing frames:   5%|▍         | 529/11231 [00:59<25:03,  7.12it/s]"
          ]
        },
        {
          "name": "stdout",
          "output_type": "stream",
          "text": [
            "New shot detected at frame 528\n"
          ]
        },
        {
          "name": "stderr",
          "output_type": "stream",
          "text": [
            "Processing frames:   5%|▍         | 540/11231 [01:00<24:10,  7.37it/s]"
          ]
        },
        {
          "name": "stdout",
          "output_type": "stream",
          "text": [
            "Locking onto stable point (853, 327) for shot 11\n"
          ]
        },
        {
          "name": "stderr",
          "output_type": "stream",
          "text": [
            "Processing frames:   5%|▍         | 553/11231 [01:02<23:11,  7.67it/s]"
          ]
        },
        {
          "name": "stdout",
          "output_type": "stream",
          "text": [
            "New shot detected at frame 552\n"
          ]
        },
        {
          "name": "stderr",
          "output_type": "stream",
          "text": [
            "Processing frames:   5%|▌         | 607/11231 [01:10<30:18,  5.84it/s]"
          ]
        },
        {
          "name": "stdout",
          "output_type": "stream",
          "text": [
            "New shot detected at frame 606\n"
          ]
        },
        {
          "name": "stderr",
          "output_type": "stream",
          "text": [
            "Processing frames:   6%|▌         | 693/11231 [01:21<35:08,  5.00it/s]"
          ]
        },
        {
          "name": "stdout",
          "output_type": "stream",
          "text": [
            "New shot detected at frame 692\n"
          ]
        },
        {
          "name": "stderr",
          "output_type": "stream",
          "text": [
            "Processing frames:   6%|▋         | 704/11231 [01:22<17:26, 10.06it/s]"
          ]
        },
        {
          "name": "stdout",
          "output_type": "stream",
          "text": [
            "Locking onto stable point (1296, 653) for shot 14\n"
          ]
        },
        {
          "name": "stderr",
          "output_type": "stream",
          "text": [
            "Processing frames:   7%|▋         | 744/11231 [01:25<12:27, 14.03it/s]"
          ]
        },
        {
          "name": "stdout",
          "output_type": "stream",
          "text": [
            "New shot detected at frame 744\n"
          ]
        },
        {
          "name": "stderr",
          "output_type": "stream",
          "text": [
            "Processing frames:   7%|▋         | 758/11231 [01:26<11:36, 15.03it/s]"
          ]
        },
        {
          "name": "stdout",
          "output_type": "stream",
          "text": [
            "Locking onto stable point (742, 284) for shot 15\n"
          ]
        },
        {
          "name": "stderr",
          "output_type": "stream",
          "text": [
            "Processing frames:   7%|▋         | 786/11231 [01:28<10:57, 15.87it/s]"
          ]
        },
        {
          "name": "stdout",
          "output_type": "stream",
          "text": [
            "New shot detected at frame 786\n"
          ]
        },
        {
          "name": "stderr",
          "output_type": "stream",
          "text": [
            "Processing frames:   7%|▋         | 800/11231 [01:29<11:09, 15.57it/s]"
          ]
        },
        {
          "name": "stdout",
          "output_type": "stream",
          "text": [
            "Locking onto stable point (1542, 656) for shot 16\n"
          ]
        },
        {
          "name": "stderr",
          "output_type": "stream",
          "text": [
            "Processing frames:   8%|▊         | 952/11231 [01:39<12:38, 13.54it/s]"
          ]
        },
        {
          "name": "stdout",
          "output_type": "stream",
          "text": [
            "New shot detected at frame 951\n"
          ]
        },
        {
          "name": "stderr",
          "output_type": "stream",
          "text": [
            "Processing frames:   9%|▊         | 964/11231 [01:40<11:15, 15.19it/s]"
          ]
        },
        {
          "name": "stdout",
          "output_type": "stream",
          "text": [
            "Locking onto stable point (680, 581) for shot 17\n"
          ]
        },
        {
          "name": "stderr",
          "output_type": "stream",
          "text": [
            "Processing frames:   9%|▉         | 1006/11231 [01:43<12:29, 13.64it/s]"
          ]
        },
        {
          "name": "stdout",
          "output_type": "stream",
          "text": [
            "New shot detected at frame 1005\n"
          ]
        },
        {
          "name": "stderr",
          "output_type": "stream",
          "text": [
            "Processing frames:   9%|▉         | 1020/11231 [01:43<10:59, 15.49it/s]"
          ]
        },
        {
          "name": "stdout",
          "output_type": "stream",
          "text": [
            "Locking onto stable point (1409, 618) for shot 18\n"
          ]
        },
        {
          "name": "stderr",
          "output_type": "stream",
          "text": [
            "Processing frames:  10%|▉         | 1072/11231 [01:47<14:43, 11.50it/s]"
          ]
        },
        {
          "name": "stdout",
          "output_type": "stream",
          "text": [
            "New shot detected at frame 1071\n"
          ]
        },
        {
          "name": "stderr",
          "output_type": "stream",
          "text": [
            "Processing frames:  10%|▉         | 1084/11231 [01:48<16:01, 10.56it/s]"
          ]
        },
        {
          "name": "stdout",
          "output_type": "stream",
          "text": [
            "Locking onto stable point (655, 579) for shot 19\n"
          ]
        },
        {
          "name": "stderr",
          "output_type": "stream",
          "text": [
            "Processing frames:  11%|█         | 1220/11231 [01:57<10:30, 15.89it/s]"
          ]
        },
        {
          "name": "stdout",
          "output_type": "stream",
          "text": [
            "New shot detected at frame 1218\n"
          ]
        },
        {
          "name": "stderr",
          "output_type": "stream",
          "text": [
            "Processing frames:  11%|█         | 1232/11231 [01:58<10:36, 15.71it/s]"
          ]
        },
        {
          "name": "stdout",
          "output_type": "stream",
          "text": [
            "Locking onto stable point (1632, 636) for shot 20\n"
          ]
        },
        {
          "name": "stderr",
          "output_type": "stream",
          "text": [
            "Processing frames:  11%|█         | 1254/11231 [01:59<12:47, 13.00it/s]"
          ]
        },
        {
          "name": "stdout",
          "output_type": "stream",
          "text": [
            "New shot detected at frame 1253\n"
          ]
        },
        {
          "name": "stderr",
          "output_type": "stream",
          "text": [
            "Processing frames:  11%|█▏        | 1271/11231 [02:02<22:04,  7.52it/s]"
          ]
        },
        {
          "name": "stdout",
          "output_type": "stream",
          "text": [
            "New shot detected at frame 1270\n"
          ]
        },
        {
          "name": "stderr",
          "output_type": "stream",
          "text": [
            "Processing frames:  12%|█▏        | 1321/11231 [02:09<12:54, 12.80it/s]"
          ]
        },
        {
          "name": "stdout",
          "output_type": "stream",
          "text": [
            "New shot detected at frame 1321\n"
          ]
        },
        {
          "name": "stderr",
          "output_type": "stream",
          "text": [
            "Processing frames:  12%|█▏        | 1373/11231 [02:12<10:35, 15.52it/s]"
          ]
        },
        {
          "name": "stdout",
          "output_type": "stream",
          "text": [
            "Locking onto stable point (856, 518) for shot 23\n"
          ]
        },
        {
          "name": "stderr",
          "output_type": "stream",
          "text": [
            "Processing frames:  12%|█▏        | 1401/11231 [02:15<14:59, 10.92it/s]"
          ]
        },
        {
          "name": "stdout",
          "output_type": "stream",
          "text": [
            "New shot detected at frame 1400\n"
          ]
        },
        {
          "name": "stderr",
          "output_type": "stream",
          "text": [
            "Processing frames:  13%|█▎        | 1447/11231 [02:18<10:48, 15.10it/s]"
          ]
        },
        {
          "name": "stdout",
          "output_type": "stream",
          "text": [
            "Locking onto stable point (1300, 522) for shot 24\n"
          ]
        },
        {
          "name": "stderr",
          "output_type": "stream",
          "text": [
            "Processing frames:  13%|█▎        | 1451/11231 [02:18<10:44, 15.18it/s]"
          ]
        },
        {
          "name": "stdout",
          "output_type": "stream",
          "text": [
            "New shot detected at frame 1449\n"
          ]
        },
        {
          "name": "stderr",
          "output_type": "stream",
          "text": [
            "Processing frames:  13%|█▎        | 1463/11231 [02:19<10:43, 15.18it/s]"
          ]
        },
        {
          "name": "stdout",
          "output_type": "stream",
          "text": [
            "Locking onto stable point (999, 527) for shot 25\n"
          ]
        },
        {
          "name": "stderr",
          "output_type": "stream",
          "text": [
            "Processing frames:  13%|█▎        | 1475/11231 [02:20<10:13, 15.91it/s]"
          ]
        },
        {
          "name": "stdout",
          "output_type": "stream",
          "text": [
            "New shot detected at frame 1472\n"
          ]
        },
        {
          "name": "stderr",
          "output_type": "stream",
          "text": [
            "Processing frames:  13%|█▎        | 1508/11231 [02:24<23:22,  6.93it/s]"
          ]
        },
        {
          "name": "stdout",
          "output_type": "stream",
          "text": [
            "New shot detected at frame 1507\n"
          ]
        },
        {
          "name": "stderr",
          "output_type": "stream",
          "text": [
            "Processing frames:  14%|█▍        | 1547/11231 [02:27<15:06, 10.68it/s]"
          ]
        },
        {
          "name": "stdout",
          "output_type": "stream",
          "text": [
            "Locking onto stable point (966, 621) for shot 27\n",
            "New shot detected at frame 1547\n"
          ]
        },
        {
          "name": "stderr",
          "output_type": "stream",
          "text": [
            "Processing frames:  14%|█▍        | 1581/11231 [02:30<11:07, 14.45it/s]"
          ]
        },
        {
          "name": "stdout",
          "output_type": "stream",
          "text": [
            "New shot detected at frame 1579\n"
          ]
        },
        {
          "name": "stderr",
          "output_type": "stream",
          "text": [
            "Processing frames:  15%|█▍        | 1649/11231 [02:37<22:38,  7.05it/s]"
          ]
        },
        {
          "name": "stdout",
          "output_type": "stream",
          "text": [
            "New shot detected at frame 1648\n"
          ]
        },
        {
          "name": "stderr",
          "output_type": "stream",
          "text": [
            "Processing frames:  15%|█▍        | 1680/11231 [02:41<15:14, 10.44it/s]"
          ]
        },
        {
          "name": "stdout",
          "output_type": "stream",
          "text": [
            "Locking onto stable point (974, 629) for shot 30\n"
          ]
        },
        {
          "name": "stderr",
          "output_type": "stream",
          "text": [
            "Processing frames:  15%|█▌        | 1698/11231 [02:42<10:57, 14.50it/s]"
          ]
        },
        {
          "name": "stdout",
          "output_type": "stream",
          "text": [
            "New shot detected at frame 1695\n"
          ]
        },
        {
          "name": "stderr",
          "output_type": "stream",
          "text": [
            "Processing frames:  16%|█▌        | 1786/11231 [02:55<26:02,  6.05it/s]"
          ]
        },
        {
          "name": "stdout",
          "output_type": "stream",
          "text": [
            "New shot detected at frame 1785\n"
          ]
        },
        {
          "name": "stderr",
          "output_type": "stream",
          "text": [
            "Processing frames:  17%|█▋        | 1855/11231 [03:05<25:59,  6.01it/s]"
          ]
        },
        {
          "name": "stdout",
          "output_type": "stream",
          "text": [
            "Locking onto stable point (475, 405) for shot 32\n"
          ]
        },
        {
          "name": "stderr",
          "output_type": "stream",
          "text": [
            "Processing frames:  17%|█▋        | 1880/11231 [03:09<22:37,  6.89it/s]"
          ]
        },
        {
          "name": "stdout",
          "output_type": "stream",
          "text": [
            "New shot detected at frame 1879\n"
          ]
        },
        {
          "name": "stderr",
          "output_type": "stream",
          "text": [
            "Processing frames:  17%|█▋        | 1905/11231 [03:11<13:16, 11.71it/s]"
          ]
        },
        {
          "name": "stdout",
          "output_type": "stream",
          "text": [
            "New shot detected at frame 1904\n"
          ]
        },
        {
          "name": "stderr",
          "output_type": "stream",
          "text": [
            "Processing frames:  17%|█▋        | 1952/11231 [03:17<20:00,  7.73it/s]"
          ]
        },
        {
          "name": "stdout",
          "output_type": "stream",
          "text": [
            "New shot detected at frame 1951\n"
          ]
        },
        {
          "name": "stderr",
          "output_type": "stream",
          "text": [
            "Processing frames:  17%|█▋        | 1964/11231 [03:18<14:19, 10.79it/s]"
          ]
        },
        {
          "name": "stdout",
          "output_type": "stream",
          "text": [
            "Locking onto stable point (683, 492) for shot 35\n"
          ]
        },
        {
          "name": "stderr",
          "output_type": "stream",
          "text": [
            "Processing frames:  19%|█▉        | 2136/11231 [03:37<21:22,  7.09it/s]"
          ]
        },
        {
          "name": "stdout",
          "output_type": "stream",
          "text": [
            "New shot detected at frame 2135\n"
          ]
        },
        {
          "name": "stderr",
          "output_type": "stream",
          "text": [
            "Processing frames:  19%|█▉        | 2156/11231 [03:39<14:05, 10.74it/s]"
          ]
        },
        {
          "name": "stdout",
          "output_type": "stream",
          "text": [
            "Locking onto stable point (1019, 402) for shot 36\n"
          ]
        },
        {
          "name": "stderr",
          "output_type": "stream",
          "text": [
            "Processing frames:  20%|██        | 2268/11231 [03:48<09:40, 15.45it/s]"
          ]
        },
        {
          "name": "stdout",
          "output_type": "stream",
          "text": [
            "New shot detected at frame 2265\n"
          ]
        },
        {
          "name": "stderr",
          "output_type": "stream",
          "text": [
            "Processing frames:  20%|██        | 2278/11231 [03:48<09:09, 16.28it/s]"
          ]
        },
        {
          "name": "stdout",
          "output_type": "stream",
          "text": [
            "Locking onto stable point (618, 576) for shot 37\n"
          ]
        },
        {
          "name": "stderr",
          "output_type": "stream",
          "text": [
            "Processing frames:  21%|██        | 2386/11231 [04:00<29:56,  4.92it/s]"
          ]
        },
        {
          "name": "stdout",
          "output_type": "stream",
          "text": [
            "New shot detected at frame 2385\n"
          ]
        },
        {
          "name": "stderr",
          "output_type": "stream",
          "text": [
            "Processing frames:  21%|██▏       | 2397/11231 [04:01<19:13,  7.66it/s]"
          ]
        },
        {
          "name": "stdout",
          "output_type": "stream",
          "text": [
            "Locking onto stable point (1191, 863) for shot 38\n"
          ]
        },
        {
          "name": "stderr",
          "output_type": "stream",
          "text": [
            "Processing frames:  22%|██▏       | 2454/11231 [04:06<17:45,  8.24it/s]"
          ]
        },
        {
          "name": "stdout",
          "output_type": "stream",
          "text": [
            "New shot detected at frame 2453\n"
          ]
        },
        {
          "name": "stderr",
          "output_type": "stream",
          "text": [
            "Processing frames:  22%|██▏       | 2468/11231 [04:07<09:44, 15.00it/s]"
          ]
        },
        {
          "name": "stdout",
          "output_type": "stream",
          "text": [
            "Locking onto stable point (1427, 369) for shot 39\n"
          ]
        },
        {
          "name": "stderr",
          "output_type": "stream",
          "text": [
            "Processing frames:  23%|██▎       | 2554/11231 [04:17<20:37,  7.01it/s]"
          ]
        },
        {
          "name": "stdout",
          "output_type": "stream",
          "text": [
            "New shot detected at frame 2553\n"
          ]
        },
        {
          "name": "stderr",
          "output_type": "stream",
          "text": [
            "Processing frames:  23%|██▎       | 2568/11231 [04:19<20:25,  7.07it/s]"
          ]
        },
        {
          "name": "stdout",
          "output_type": "stream",
          "text": [
            "Locking onto stable point (797, 195) for shot 40\n"
          ]
        },
        {
          "name": "stderr",
          "output_type": "stream",
          "text": [
            "Processing frames:  25%|██▍       | 2754/11231 [04:35<13:30, 10.45it/s]"
          ]
        },
        {
          "name": "stdout",
          "output_type": "stream",
          "text": [
            "New shot detected at frame 2753\n"
          ]
        },
        {
          "name": "stderr",
          "output_type": "stream",
          "text": [
            "Processing frames:  25%|██▍       | 2766/11231 [04:36<09:39, 14.61it/s]"
          ]
        },
        {
          "name": "stdout",
          "output_type": "stream",
          "text": [
            "Locking onto stable point (883, 588) for shot 41\n"
          ]
        },
        {
          "name": "stderr",
          "output_type": "stream",
          "text": [
            "Processing frames:  25%|██▌       | 2829/11231 [04:41<14:19,  9.77it/s]"
          ]
        },
        {
          "name": "stdout",
          "output_type": "stream",
          "text": [
            "New shot detected at frame 2827\n"
          ]
        },
        {
          "name": "stderr",
          "output_type": "stream",
          "text": [
            "Processing frames:  25%|██▌       | 2845/11231 [04:42<08:49, 15.84it/s]"
          ]
        },
        {
          "name": "stdout",
          "output_type": "stream",
          "text": [
            "Locking onto stable point (975, 557) for shot 42\n"
          ]
        },
        {
          "name": "stderr",
          "output_type": "stream",
          "text": [
            "Processing frames:  26%|██▌       | 2879/11231 [04:44<08:32, 16.30it/s]"
          ]
        },
        {
          "name": "stdout",
          "output_type": "stream",
          "text": [
            "New shot detected at frame 2877\n"
          ]
        },
        {
          "name": "stderr",
          "output_type": "stream",
          "text": [
            "Processing frames:  26%|██▌       | 2889/11231 [04:45<08:26, 16.47it/s]"
          ]
        },
        {
          "name": "stdout",
          "output_type": "stream",
          "text": [
            "Locking onto stable point (907, 685) for shot 43\n"
          ]
        },
        {
          "name": "stderr",
          "output_type": "stream",
          "text": [
            "Processing frames:  26%|██▋       | 2953/11231 [04:49<09:35, 14.38it/s]"
          ]
        },
        {
          "name": "stdout",
          "output_type": "stream",
          "text": [
            "New shot detected at frame 2951\n"
          ]
        },
        {
          "name": "stderr",
          "output_type": "stream",
          "text": [
            "Processing frames:  28%|██▊       | 3096/11231 [05:10<19:18,  7.02it/s]"
          ]
        },
        {
          "name": "stdout",
          "output_type": "stream",
          "text": [
            "New shot detected at frame 3095\n"
          ]
        },
        {
          "name": "stderr",
          "output_type": "stream",
          "text": [
            "Processing frames:  28%|██▊       | 3107/11231 [05:12<18:40,  7.25it/s]"
          ]
        },
        {
          "name": "stdout",
          "output_type": "stream",
          "text": [
            "Locking onto stable point (415, 473) for shot 45\n"
          ]
        },
        {
          "name": "stderr",
          "output_type": "stream",
          "text": [
            "Processing frames:  28%|██▊       | 3131/11231 [05:15<23:44,  5.69it/s]"
          ]
        },
        {
          "name": "stdout",
          "output_type": "stream",
          "text": [
            "New shot detected at frame 3130\n"
          ]
        },
        {
          "name": "stderr",
          "output_type": "stream",
          "text": [
            "Processing frames:  28%|██▊       | 3162/11231 [05:20<19:26,  6.92it/s]"
          ]
        },
        {
          "name": "stdout",
          "output_type": "stream",
          "text": [
            "Locking onto stable point (1355, 539) for shot 46\n"
          ]
        },
        {
          "name": "stderr",
          "output_type": "stream",
          "text": [
            "Processing frames:  29%|██▉       | 3232/11231 [05:31<21:29,  6.20it/s]"
          ]
        },
        {
          "name": "stdout",
          "output_type": "stream",
          "text": [
            "New shot detected at frame 3231\n"
          ]
        },
        {
          "name": "stderr",
          "output_type": "stream",
          "text": [
            "Processing frames:  29%|██▉       | 3264/11231 [05:34<08:25, 15.75it/s]"
          ]
        },
        {
          "name": "stdout",
          "output_type": "stream",
          "text": [
            "Locking onto stable point (1257, 777) for shot 47\n"
          ]
        },
        {
          "name": "stderr",
          "output_type": "stream",
          "text": [
            "Processing frames:  29%|██▉       | 3304/11231 [05:36<08:24, 15.72it/s]"
          ]
        },
        {
          "name": "stdout",
          "output_type": "stream",
          "text": [
            "New shot detected at frame 3302\n"
          ]
        },
        {
          "name": "stderr",
          "output_type": "stream",
          "text": [
            "Processing frames:  30%|██▉       | 3343/11231 [05:42<24:27,  5.37it/s]"
          ]
        },
        {
          "name": "stdout",
          "output_type": "stream",
          "text": [
            "Locking onto stable point (1479, 600) for shot 48\n"
          ]
        },
        {
          "name": "stderr",
          "output_type": "stream",
          "text": [
            "Processing frames:  30%|██▉       | 3358/11231 [05:44<20:48,  6.30it/s]"
          ]
        },
        {
          "name": "stdout",
          "output_type": "stream",
          "text": [
            "New shot detected at frame 3357\n"
          ]
        },
        {
          "name": "stderr",
          "output_type": "stream",
          "text": [
            "Processing frames:  30%|███       | 3398/11231 [05:49<08:40, 15.05it/s]"
          ]
        },
        {
          "name": "stdout",
          "output_type": "stream",
          "text": [
            "Locking onto stable point (668, 695) for shot 49\n"
          ]
        },
        {
          "name": "stderr",
          "output_type": "stream",
          "text": [
            "Processing frames:  31%|███       | 3440/11231 [05:52<10:45, 12.07it/s]"
          ]
        },
        {
          "name": "stdout",
          "output_type": "stream",
          "text": [
            "New shot detected at frame 3440\n"
          ]
        },
        {
          "name": "stderr",
          "output_type": "stream",
          "text": [
            "Processing frames:  31%|███       | 3479/11231 [05:57<20:17,  6.37it/s]"
          ]
        },
        {
          "name": "stdout",
          "output_type": "stream",
          "text": [
            "New shot detected at frame 3478\n"
          ]
        },
        {
          "name": "stderr",
          "output_type": "stream",
          "text": [
            "Processing frames:  32%|███▏      | 3539/11231 [06:02<08:27, 15.17it/s]"
          ]
        },
        {
          "name": "stdout",
          "output_type": "stream",
          "text": [
            "New shot detected at frame 3537\n"
          ]
        },
        {
          "name": "stderr",
          "output_type": "stream",
          "text": [
            "Processing frames:  32%|███▏      | 3569/11231 [06:06<18:05,  7.06it/s]"
          ]
        },
        {
          "name": "stdout",
          "output_type": "stream",
          "text": [
            "New shot detected at frame 3568\n"
          ]
        },
        {
          "name": "stderr",
          "output_type": "stream",
          "text": [
            "Processing frames:  32%|███▏      | 3611/11231 [06:12<15:01,  8.45it/s]"
          ]
        },
        {
          "name": "stdout",
          "output_type": "stream",
          "text": [
            "New shot detected at frame 3609\n"
          ]
        },
        {
          "name": "stderr",
          "output_type": "stream",
          "text": [
            "Processing frames:  33%|███▎      | 3693/11231 [06:24<13:58,  8.99it/s]"
          ]
        },
        {
          "name": "stdout",
          "output_type": "stream",
          "text": [
            "New shot detected at frame 3691\n"
          ]
        },
        {
          "name": "stderr",
          "output_type": "stream",
          "text": [
            "Processing frames:  33%|███▎      | 3707/11231 [06:25<08:15, 15.17it/s]"
          ]
        },
        {
          "name": "stdout",
          "output_type": "stream",
          "text": [
            "Locking onto stable point (575, 359) for shot 55\n"
          ]
        },
        {
          "name": "stderr",
          "output_type": "stream",
          "text": [
            "Processing frames:  33%|███▎      | 3741/11231 [06:29<13:42,  9.10it/s]"
          ]
        },
        {
          "name": "stdout",
          "output_type": "stream",
          "text": [
            "New shot detected at frame 3740\n"
          ]
        },
        {
          "name": "stderr",
          "output_type": "stream",
          "text": [
            "Processing frames:  33%|███▎      | 3758/11231 [06:30<08:08, 15.29it/s]"
          ]
        },
        {
          "name": "stdout",
          "output_type": "stream",
          "text": [
            "Locking onto stable point (1028, 587) for shot 56\n"
          ]
        },
        {
          "name": "stderr",
          "output_type": "stream",
          "text": [
            "Processing frames:  34%|███▎      | 3776/11231 [06:31<07:53, 15.75it/s]"
          ]
        },
        {
          "name": "stdout",
          "output_type": "stream",
          "text": [
            "New shot detected at frame 3773\n"
          ]
        },
        {
          "name": "stderr",
          "output_type": "stream",
          "text": [
            "Processing frames:  34%|███▎      | 3786/11231 [06:32<07:45, 15.99it/s]"
          ]
        },
        {
          "name": "stdout",
          "output_type": "stream",
          "text": [
            "Locking onto stable point (1112, 664) for shot 57\n"
          ]
        },
        {
          "name": "stderr",
          "output_type": "stream",
          "text": [
            "Processing frames:  34%|███▍      | 3836/11231 [06:36<11:23, 10.82it/s]"
          ]
        },
        {
          "name": "stdout",
          "output_type": "stream",
          "text": [
            "New shot detected at frame 3834\n"
          ]
        },
        {
          "name": "stderr",
          "output_type": "stream",
          "text": [
            "Processing frames:  34%|███▍      | 3846/11231 [06:37<08:24, 14.63it/s]"
          ]
        },
        {
          "name": "stdout",
          "output_type": "stream",
          "text": [
            "Locking onto stable point (1044, 618) for shot 58\n"
          ]
        },
        {
          "name": "stderr",
          "output_type": "stream",
          "text": [
            "Processing frames:  35%|███▍      | 3884/11231 [06:39<07:51, 15.59it/s]"
          ]
        },
        {
          "name": "stdout",
          "output_type": "stream",
          "text": [
            "New shot detected at frame 3881\n"
          ]
        },
        {
          "name": "stderr",
          "output_type": "stream",
          "text": [
            "Processing frames:  35%|███▍      | 3913/11231 [06:43<16:09,  7.55it/s]"
          ]
        },
        {
          "name": "stdout",
          "output_type": "stream",
          "text": [
            "Locking onto stable point (1870, 33) for shot 59\n"
          ]
        },
        {
          "name": "stderr",
          "output_type": "stream",
          "text": [
            "Processing frames:  35%|███▌      | 3940/11231 [06:46<17:44,  6.85it/s]"
          ]
        },
        {
          "name": "stdout",
          "output_type": "stream",
          "text": [
            "New shot detected at frame 3940\n"
          ]
        },
        {
          "name": "stderr",
          "output_type": "stream",
          "text": [
            "Processing frames:  36%|███▌      | 3988/11231 [06:52<07:48, 15.47it/s]"
          ]
        },
        {
          "name": "stdout",
          "output_type": "stream",
          "text": [
            "Locking onto stable point (886, 567) for shot 60\n"
          ]
        },
        {
          "name": "stderr",
          "output_type": "stream",
          "text": [
            "Processing frames:  36%|███▌      | 3996/11231 [06:52<09:01, 13.37it/s]"
          ]
        },
        {
          "name": "stdout",
          "output_type": "stream",
          "text": [
            "New shot detected at frame 3995\n"
          ]
        },
        {
          "name": "stderr",
          "output_type": "stream",
          "text": [
            "Processing frames:  36%|███▌      | 4039/11231 [06:57<15:20,  7.82it/s]"
          ]
        },
        {
          "name": "stdout",
          "output_type": "stream",
          "text": [
            "Locking onto stable point (826, 860) for shot 61\n"
          ]
        },
        {
          "name": "stderr",
          "output_type": "stream",
          "text": [
            "Processing frames:  36%|███▌      | 4050/11231 [06:59<12:38,  9.46it/s]"
          ]
        },
        {
          "name": "stdout",
          "output_type": "stream",
          "text": [
            "New shot detected at frame 4048\n"
          ]
        },
        {
          "name": "stderr",
          "output_type": "stream",
          "text": [
            "Processing frames:  36%|███▌      | 4060/11231 [07:00<10:48, 11.06it/s]"
          ]
        },
        {
          "name": "stdout",
          "output_type": "stream",
          "text": [
            "Locking onto stable point (1057, 609) for shot 62\n"
          ]
        },
        {
          "name": "stderr",
          "output_type": "stream",
          "text": [
            "Processing frames:  38%|███▊      | 4219/11231 [07:17<16:39,  7.02it/s]"
          ]
        },
        {
          "name": "stdout",
          "output_type": "stream",
          "text": [
            "New shot detected at frame 4218\n"
          ]
        },
        {
          "name": "stderr",
          "output_type": "stream",
          "text": [
            "Processing frames:  38%|███▊      | 4241/11231 [07:19<07:28, 15.58it/s]"
          ]
        },
        {
          "name": "stdout",
          "output_type": "stream",
          "text": [
            "Locking onto stable point (730, 448) for shot 63\n"
          ]
        },
        {
          "name": "stderr",
          "output_type": "stream",
          "text": [
            "Processing frames:  38%|███▊      | 4263/11231 [07:21<08:28, 13.69it/s]"
          ]
        },
        {
          "name": "stdout",
          "output_type": "stream",
          "text": [
            "New shot detected at frame 4262\n"
          ]
        },
        {
          "name": "stderr",
          "output_type": "stream",
          "text": [
            "Processing frames:  38%|███▊      | 4316/11231 [07:28<20:33,  5.61it/s]"
          ]
        },
        {
          "name": "stdout",
          "output_type": "stream",
          "text": [
            "Locking onto stable point (32, 992) for shot 64\n"
          ]
        },
        {
          "name": "stderr",
          "output_type": "stream",
          "text": [
            "Processing frames:  39%|███▊      | 4329/11231 [07:30<16:35,  6.94it/s]"
          ]
        },
        {
          "name": "stdout",
          "output_type": "stream",
          "text": [
            "New shot detected at frame 4328\n"
          ]
        },
        {
          "name": "stderr",
          "output_type": "stream",
          "text": [
            "Processing frames:  39%|███▉      | 4364/11231 [07:35<16:22,  6.99it/s]"
          ]
        },
        {
          "name": "stdout",
          "output_type": "stream",
          "text": [
            "New shot detected at frame 4363\n"
          ]
        },
        {
          "name": "stderr",
          "output_type": "stream",
          "text": [
            "Processing frames:  39%|███▉      | 4376/11231 [07:36<16:06,  7.09it/s]"
          ]
        },
        {
          "name": "stdout",
          "output_type": "stream",
          "text": [
            "Locking onto stable point (483, 9) for shot 66\n"
          ]
        },
        {
          "name": "stderr",
          "output_type": "stream",
          "text": [
            "Processing frames:  39%|███▉      | 4405/11231 [07:41<20:39,  5.51it/s]"
          ]
        },
        {
          "name": "stdout",
          "output_type": "stream",
          "text": [
            "New shot detected at frame 4404\n"
          ]
        },
        {
          "name": "stderr",
          "output_type": "stream",
          "text": [
            "Processing frames:  39%|███▉      | 4422/11231 [07:43<15:20,  7.40it/s]"
          ]
        },
        {
          "name": "stdout",
          "output_type": "stream",
          "text": [
            "New shot detected at frame 4421\n"
          ]
        },
        {
          "name": "stderr",
          "output_type": "stream",
          "text": [
            "Processing frames:  40%|███▉      | 4437/11231 [07:44<11:26,  9.90it/s]"
          ]
        },
        {
          "name": "stdout",
          "output_type": "stream",
          "text": [
            "Locking onto stable point (520, 435) for shot 68\n"
          ]
        },
        {
          "name": "stderr",
          "output_type": "stream",
          "text": [
            "Processing frames:  40%|███▉      | 4442/11231 [07:45<12:48,  8.83it/s]"
          ]
        },
        {
          "name": "stdout",
          "output_type": "stream",
          "text": [
            "New shot detected at frame 4441\n"
          ]
        },
        {
          "name": "stderr",
          "output_type": "stream",
          "text": [
            "Processing frames:  40%|███▉      | 4452/11231 [07:45<07:59, 14.13it/s]"
          ]
        },
        {
          "name": "stdout",
          "output_type": "stream",
          "text": [
            "Locking onto stable point (887, 604) for shot 69\n"
          ]
        },
        {
          "name": "stderr",
          "output_type": "stream",
          "text": [
            "Processing frames:  40%|████      | 4512/11231 [07:49<07:24, 15.12it/s]"
          ]
        },
        {
          "name": "stdout",
          "output_type": "stream",
          "text": [
            "New shot detected at frame 4510\n"
          ]
        },
        {
          "name": "stderr",
          "output_type": "stream",
          "text": [
            "Processing frames:  40%|████      | 4538/11231 [07:52<10:18, 10.83it/s]"
          ]
        },
        {
          "name": "stdout",
          "output_type": "stream",
          "text": [
            "Locking onto stable point (634, 432) for shot 70\n"
          ]
        },
        {
          "name": "stderr",
          "output_type": "stream",
          "text": [
            "Processing frames:  41%|████      | 4599/11231 [07:59<14:09,  7.80it/s]"
          ]
        },
        {
          "name": "stdout",
          "output_type": "stream",
          "text": [
            "New shot detected at frame 4598\n"
          ]
        },
        {
          "name": "stderr",
          "output_type": "stream",
          "text": [
            "Processing frames:  41%|████      | 4619/11231 [08:01<07:25, 14.85it/s]"
          ]
        },
        {
          "name": "stdout",
          "output_type": "stream",
          "text": [
            "Locking onto stable point (881, 584) for shot 71\n"
          ]
        },
        {
          "name": "stderr",
          "output_type": "stream",
          "text": [
            "Processing frames:  42%|████▏     | 4723/11231 [08:09<08:07, 13.35it/s]"
          ]
        },
        {
          "name": "stdout",
          "output_type": "stream",
          "text": [
            "New shot detected at frame 4722\n"
          ]
        },
        {
          "name": "stderr",
          "output_type": "stream",
          "text": [
            "Processing frames:  42%|████▏     | 4748/11231 [08:11<14:30,  7.45it/s]"
          ]
        },
        {
          "name": "stdout",
          "output_type": "stream",
          "text": [
            "Locking onto stable point (1851, 23) for shot 72\n"
          ]
        },
        {
          "name": "stderr",
          "output_type": "stream",
          "text": [
            "Processing frames:  43%|████▎     | 4781/11231 [08:16<15:42,  6.84it/s]"
          ]
        },
        {
          "name": "stdout",
          "output_type": "stream",
          "text": [
            "New shot detected at frame 4780\n"
          ]
        },
        {
          "name": "stderr",
          "output_type": "stream",
          "text": [
            "Processing frames:  43%|████▎     | 4810/11231 [08:21<16:43,  6.40it/s]"
          ]
        },
        {
          "name": "stdout",
          "output_type": "stream",
          "text": [
            "New shot detected at frame 4809\n"
          ]
        },
        {
          "name": "stderr",
          "output_type": "stream",
          "text": [
            "Processing frames:  43%|████▎     | 4842/11231 [08:25<13:39,  7.80it/s]"
          ]
        },
        {
          "name": "stdout",
          "output_type": "stream",
          "text": [
            "New shot detected at frame 4841\n"
          ]
        },
        {
          "name": "stderr",
          "output_type": "stream",
          "text": [
            "Processing frames:  43%|████▎     | 4880/11231 [08:31<17:03,  6.20it/s]"
          ]
        },
        {
          "name": "stdout",
          "output_type": "stream",
          "text": [
            "New shot detected at frame 4879\n"
          ]
        },
        {
          "name": "stderr",
          "output_type": "stream",
          "text": [
            "Processing frames:  44%|████▎     | 4890/11231 [08:32<19:10,  5.51it/s]"
          ]
        },
        {
          "name": "stdout",
          "output_type": "stream",
          "text": [
            "Locking onto stable point (769, 428) for shot 76\n"
          ]
        },
        {
          "name": "stderr",
          "output_type": "stream",
          "text": [
            "Processing frames:  44%|████▍     | 4953/11231 [08:40<13:42,  7.63it/s]"
          ]
        },
        {
          "name": "stdout",
          "output_type": "stream",
          "text": [
            "New shot detected at frame 4952\n"
          ]
        },
        {
          "name": "stderr",
          "output_type": "stream",
          "text": [
            "Processing frames:  44%|████▍     | 4973/11231 [08:42<07:22, 14.15it/s]"
          ]
        },
        {
          "name": "stdout",
          "output_type": "stream",
          "text": [
            "Locking onto stable point (829, 457) for shot 77\n"
          ]
        },
        {
          "name": "stderr",
          "output_type": "stream",
          "text": [
            "Processing frames:  44%|████▍     | 4991/11231 [08:44<09:20, 11.13it/s]"
          ]
        },
        {
          "name": "stdout",
          "output_type": "stream",
          "text": [
            "New shot detected at frame 4989\n"
          ]
        },
        {
          "name": "stderr",
          "output_type": "stream",
          "text": [
            "Processing frames:  45%|████▍     | 5006/11231 [08:46<15:18,  6.78it/s]"
          ]
        },
        {
          "name": "stdout",
          "output_type": "stream",
          "text": [
            "Locking onto stable point (867, 488) for shot 78\n"
          ]
        },
        {
          "name": "stderr",
          "output_type": "stream",
          "text": [
            "Processing frames:  45%|████▍     | 5052/11231 [08:52<17:52,  5.76it/s]"
          ]
        },
        {
          "name": "stdout",
          "output_type": "stream",
          "text": [
            "New shot detected at frame 5052\n"
          ]
        },
        {
          "name": "stderr",
          "output_type": "stream",
          "text": [
            "Processing frames:  45%|████▌     | 5096/11231 [08:59<17:07,  5.97it/s]"
          ]
        },
        {
          "name": "stdout",
          "output_type": "stream",
          "text": [
            "New shot detected at frame 5095\n"
          ]
        },
        {
          "name": "stderr",
          "output_type": "stream",
          "text": [
            "Processing frames:  46%|████▌     | 5159/11231 [09:06<12:58,  7.80it/s]"
          ]
        },
        {
          "name": "stdout",
          "output_type": "stream",
          "text": [
            "Locking onto stable point (916, 16) for shot 80\n",
            "New shot detected at frame 5159\n"
          ]
        },
        {
          "name": "stderr",
          "output_type": "stream",
          "text": [
            "Processing frames:  46%|████▌     | 5193/11231 [09:10<20:07,  5.00it/s]"
          ]
        },
        {
          "name": "stdout",
          "output_type": "stream",
          "text": [
            "Locking onto stable point (1916, 1058) for shot 81\n"
          ]
        },
        {
          "name": "stderr",
          "output_type": "stream",
          "text": [
            "Processing frames:  47%|████▋     | 5238/11231 [09:15<07:30, 13.29it/s]"
          ]
        },
        {
          "name": "stdout",
          "output_type": "stream",
          "text": [
            "New shot detected at frame 5237\n"
          ]
        },
        {
          "name": "stderr",
          "output_type": "stream",
          "text": [
            "Processing frames:  47%|████▋     | 5256/11231 [09:16<06:29, 15.35it/s]"
          ]
        },
        {
          "name": "stdout",
          "output_type": "stream",
          "text": [
            "Locking onto stable point (622, 561) for shot 82\n"
          ]
        },
        {
          "name": "stderr",
          "output_type": "stream",
          "text": [
            "Processing frames:  48%|████▊     | 5366/11231 [09:23<09:14, 10.58it/s]"
          ]
        },
        {
          "name": "stdout",
          "output_type": "stream",
          "text": [
            "New shot detected at frame 5365\n"
          ]
        },
        {
          "name": "stderr",
          "output_type": "stream",
          "text": [
            "Processing frames:  48%|████▊     | 5398/11231 [09:26<06:12, 15.68it/s]"
          ]
        },
        {
          "name": "stdout",
          "output_type": "stream",
          "text": [
            "New shot detected at frame 5395\n"
          ]
        },
        {
          "name": "stderr",
          "output_type": "stream",
          "text": [
            "Processing frames:  48%|████▊     | 5416/11231 [09:27<06:06, 15.85it/s]"
          ]
        },
        {
          "name": "stdout",
          "output_type": "stream",
          "text": [
            "Locking onto stable point (960, 577) for shot 84\n"
          ]
        },
        {
          "name": "stderr",
          "output_type": "stream",
          "text": [
            "Processing frames:  49%|████▉     | 5484/11231 [09:31<06:07, 15.63it/s]"
          ]
        },
        {
          "name": "stdout",
          "output_type": "stream",
          "text": [
            "New shot detected at frame 5482\n"
          ]
        },
        {
          "name": "stderr",
          "output_type": "stream",
          "text": [
            "Processing frames:  49%|████▉     | 5508/11231 [09:33<05:51, 16.26it/s]"
          ]
        },
        {
          "name": "stdout",
          "output_type": "stream",
          "text": [
            "Locking onto stable point (1213, 503) for shot 85\n"
          ]
        },
        {
          "name": "stderr",
          "output_type": "stream",
          "text": [
            "Processing frames:  49%|████▉     | 5531/11231 [09:36<15:03,  6.31it/s]"
          ]
        },
        {
          "name": "stdout",
          "output_type": "stream",
          "text": [
            "New shot detected at frame 5530\n"
          ]
        },
        {
          "name": "stderr",
          "output_type": "stream",
          "text": [
            "Processing frames:  49%|████▉     | 5544/11231 [09:37<09:00, 10.52it/s]"
          ]
        },
        {
          "name": "stdout",
          "output_type": "stream",
          "text": [
            "Locking onto stable point (1091, 586) for shot 86\n"
          ]
        },
        {
          "name": "stderr",
          "output_type": "stream",
          "text": [
            "Processing frames:  51%|█████     | 5706/11231 [09:48<05:57, 15.46it/s]"
          ]
        },
        {
          "name": "stdout",
          "output_type": "stream",
          "text": [
            "New shot detected at frame 5705\n"
          ]
        },
        {
          "name": "stderr",
          "output_type": "stream",
          "text": [
            "Processing frames:  51%|█████     | 5722/11231 [09:49<08:09, 11.24it/s]"
          ]
        },
        {
          "name": "stdout",
          "output_type": "stream",
          "text": [
            "Locking onto stable point (1224, 507) for shot 87\n"
          ]
        },
        {
          "name": "stderr",
          "output_type": "stream",
          "text": [
            "Processing frames:  51%|█████▏    | 5767/11231 [09:56<12:50,  7.10it/s]"
          ]
        },
        {
          "name": "stdout",
          "output_type": "stream",
          "text": [
            "New shot detected at frame 5766\n"
          ]
        },
        {
          "name": "stderr",
          "output_type": "stream",
          "text": [
            "Processing frames:  52%|█████▏    | 5785/11231 [09:57<05:55, 15.30it/s]"
          ]
        },
        {
          "name": "stdout",
          "output_type": "stream",
          "text": [
            "Locking onto stable point (1373, 552) for shot 88\n"
          ]
        },
        {
          "name": "stderr",
          "output_type": "stream",
          "text": [
            "Processing frames:  52%|█████▏    | 5799/11231 [09:58<05:45, 15.71it/s]"
          ]
        },
        {
          "name": "stdout",
          "output_type": "stream",
          "text": [
            "New shot detected at frame 5797\n"
          ]
        },
        {
          "name": "stderr",
          "output_type": "stream",
          "text": [
            "Processing frames:  52%|█████▏    | 5815/11231 [09:59<09:42,  9.30it/s]"
          ]
        },
        {
          "name": "stdout",
          "output_type": "stream",
          "text": [
            "Locking onto stable point (711, 638) for shot 89\n"
          ]
        },
        {
          "name": "stderr",
          "output_type": "stream",
          "text": [
            "Processing frames:  52%|█████▏    | 5824/11231 [10:01<12:26,  7.24it/s]"
          ]
        },
        {
          "name": "stdout",
          "output_type": "stream",
          "text": [
            "New shot detected at frame 5823\n"
          ]
        },
        {
          "name": "stderr",
          "output_type": "stream",
          "text": [
            "Processing frames:  52%|█████▏    | 5842/11231 [10:03<08:26, 10.64it/s]"
          ]
        },
        {
          "name": "stdout",
          "output_type": "stream",
          "text": [
            "Locking onto stable point (1331, 631) for shot 90\n"
          ]
        },
        {
          "name": "stderr",
          "output_type": "stream",
          "text": [
            "Processing frames:  53%|█████▎    | 5902/11231 [10:07<05:49, 15.23it/s]"
          ]
        },
        {
          "name": "stdout",
          "output_type": "stream",
          "text": [
            "New shot detected at frame 5899\n"
          ]
        },
        {
          "name": "stderr",
          "output_type": "stream",
          "text": [
            "Processing frames:  53%|█████▎    | 5920/11231 [10:08<05:35, 15.84it/s]"
          ]
        },
        {
          "name": "stdout",
          "output_type": "stream",
          "text": [
            "Locking onto stable point (1156, 466) for shot 91\n"
          ]
        },
        {
          "name": "stderr",
          "output_type": "stream",
          "text": [
            "Processing frames:  53%|█████▎    | 5934/11231 [10:10<09:18,  9.48it/s]"
          ]
        },
        {
          "name": "stdout",
          "output_type": "stream",
          "text": [
            "New shot detected at frame 5932\n"
          ]
        },
        {
          "name": "stderr",
          "output_type": "stream",
          "text": [
            "Processing frames:  53%|█████▎    | 5950/11231 [10:11<05:40, 15.53it/s]"
          ]
        },
        {
          "name": "stdout",
          "output_type": "stream",
          "text": [
            "Locking onto stable point (1014, 593) for shot 92\n"
          ]
        },
        {
          "name": "stderr",
          "output_type": "stream",
          "text": [
            "Processing frames:  53%|█████▎    | 5990/11231 [10:13<05:32, 15.78it/s]"
          ]
        },
        {
          "name": "stdout",
          "output_type": "stream",
          "text": [
            "New shot detected at frame 5987\n"
          ]
        },
        {
          "name": "stderr",
          "output_type": "stream",
          "text": [
            "Processing frames:  54%|█████▎    | 6015/11231 [10:17<17:21,  5.01it/s]"
          ]
        },
        {
          "name": "stdout",
          "output_type": "stream",
          "text": [
            "Locking onto stable point (1237, 380) for shot 93\n"
          ]
        },
        {
          "name": "stderr",
          "output_type": "stream",
          "text": [
            "Processing frames:  54%|█████▎    | 6032/11231 [10:19<12:32,  6.91it/s]"
          ]
        },
        {
          "name": "stdout",
          "output_type": "stream",
          "text": [
            "New shot detected at frame 6031\n"
          ]
        },
        {
          "name": "stderr",
          "output_type": "stream",
          "text": [
            "Processing frames:  54%|█████▍    | 6051/11231 [10:21<05:36, 15.37it/s]"
          ]
        },
        {
          "name": "stdout",
          "output_type": "stream",
          "text": [
            "Locking onto stable point (986, 594) for shot 94\n"
          ]
        },
        {
          "name": "stderr",
          "output_type": "stream",
          "text": [
            "Processing frames:  54%|█████▍    | 6087/11231 [10:23<05:33, 15.44it/s]"
          ]
        },
        {
          "name": "stdout",
          "output_type": "stream",
          "text": [
            "New shot detected at frame 6085\n"
          ]
        },
        {
          "name": "stderr",
          "output_type": "stream",
          "text": [
            "Processing frames:  54%|█████▍    | 6107/11231 [10:24<05:32, 15.41it/s]"
          ]
        },
        {
          "name": "stdout",
          "output_type": "stream",
          "text": [
            "Locking onto stable point (1031, 469) for shot 95\n"
          ]
        },
        {
          "name": "stderr",
          "output_type": "stream",
          "text": [
            "Processing frames:  55%|█████▌    | 6179/11231 [10:30<07:53, 10.67it/s]"
          ]
        },
        {
          "name": "stdout",
          "output_type": "stream",
          "text": [
            "New shot detected at frame 6179\n"
          ]
        },
        {
          "name": "stderr",
          "output_type": "stream",
          "text": [
            "Processing frames:  55%|█████▌    | 6203/11231 [10:32<05:52, 14.28it/s]"
          ]
        },
        {
          "name": "stdout",
          "output_type": "stream",
          "text": [
            "Locking onto stable point (1052, 437) for shot 96\n"
          ]
        },
        {
          "name": "stderr",
          "output_type": "stream",
          "text": [
            "Processing frames:  55%|█████▌    | 6227/11231 [10:33<06:14, 13.36it/s]"
          ]
        },
        {
          "name": "stdout",
          "output_type": "stream",
          "text": [
            "New shot detected at frame 6226\n"
          ]
        },
        {
          "name": "stderr",
          "output_type": "stream",
          "text": [
            "Processing frames:  56%|█████▌    | 6239/11231 [10:34<05:27, 15.25it/s]"
          ]
        },
        {
          "name": "stdout",
          "output_type": "stream",
          "text": [
            "Locking onto stable point (1181, 521) for shot 97\n"
          ]
        },
        {
          "name": "stderr",
          "output_type": "stream",
          "text": [
            "Processing frames:  56%|█████▋    | 6345/11231 [10:42<07:40, 10.61it/s]"
          ]
        },
        {
          "name": "stdout",
          "output_type": "stream",
          "text": [
            "New shot detected at frame 6343\n"
          ]
        },
        {
          "name": "stderr",
          "output_type": "stream",
          "text": [
            "Processing frames:  57%|█████▋    | 6387/11231 [10:47<11:19,  7.12it/s]"
          ]
        },
        {
          "name": "stdout",
          "output_type": "stream",
          "text": [
            "Locking onto stable point (1402, 1008) for shot 98\n",
            "New shot detected at frame 6387\n"
          ]
        },
        {
          "name": "stderr",
          "output_type": "stream",
          "text": [
            "Processing frames:  57%|█████▋    | 6407/11231 [10:48<05:18, 15.17it/s]"
          ]
        },
        {
          "name": "stdout",
          "output_type": "stream",
          "text": [
            "Locking onto stable point (1187, 411) for shot 99\n"
          ]
        },
        {
          "name": "stderr",
          "output_type": "stream",
          "text": [
            "Processing frames:  58%|█████▊    | 6516/11231 [10:57<06:25, 12.23it/s]"
          ]
        },
        {
          "name": "stdout",
          "output_type": "stream",
          "text": [
            "New shot detected at frame 6513\n"
          ]
        },
        {
          "name": "stderr",
          "output_type": "stream",
          "text": [
            "Processing frames:  58%|█████▊    | 6539/11231 [10:59<10:27,  7.48it/s]"
          ]
        },
        {
          "name": "stdout",
          "output_type": "stream",
          "text": [
            "Locking onto stable point (883, 275) for shot 100\n",
            "New shot detected at frame 6539\n"
          ]
        },
        {
          "name": "stderr",
          "output_type": "stream",
          "text": [
            "Processing frames:  58%|█████▊    | 6556/11231 [11:00<05:10, 15.07it/s]"
          ]
        },
        {
          "name": "stdout",
          "output_type": "stream",
          "text": [
            "Locking onto stable point (949, 524) for shot 101\n"
          ]
        },
        {
          "name": "stderr",
          "output_type": "stream",
          "text": [
            "Processing frames:  59%|█████▉    | 6650/11231 [11:06<05:47, 13.18it/s]"
          ]
        },
        {
          "name": "stdout",
          "output_type": "stream",
          "text": [
            "New shot detected at frame 6649\n"
          ]
        },
        {
          "name": "stderr",
          "output_type": "stream",
          "text": [
            "Processing frames:  60%|██████    | 6792/11231 [11:17<04:59, 14.85it/s]"
          ]
        },
        {
          "name": "stdout",
          "output_type": "stream",
          "text": [
            "Locking onto stable point (1078, 600) for shot 102\n"
          ]
        },
        {
          "name": "stderr",
          "output_type": "stream",
          "text": [
            "Processing frames:  61%|██████    | 6802/11231 [11:18<05:09, 14.32it/s]"
          ]
        },
        {
          "name": "stdout",
          "output_type": "stream",
          "text": [
            "New shot detected at frame 6802\n"
          ]
        },
        {
          "name": "stderr",
          "output_type": "stream",
          "text": [
            "Processing frames:  61%|██████    | 6822/11231 [11:19<08:27,  8.68it/s]"
          ]
        },
        {
          "name": "stdout",
          "output_type": "stream",
          "text": [
            "Locking onto stable point (1222, 479) for shot 103\n"
          ]
        },
        {
          "name": "stderr",
          "output_type": "stream",
          "text": [
            "Processing frames:  61%|██████▏   | 6880/11231 [11:29<10:14,  7.08it/s]"
          ]
        },
        {
          "name": "stdout",
          "output_type": "stream",
          "text": [
            "New shot detected at frame 6879\n"
          ]
        },
        {
          "name": "stderr",
          "output_type": "stream",
          "text": [
            "Processing frames:  61%|██████▏   | 6901/11231 [11:31<09:35,  7.52it/s]"
          ]
        },
        {
          "name": "stdout",
          "output_type": "stream",
          "text": [
            "Locking onto stable point (381, 587) for shot 104\n"
          ]
        },
        {
          "name": "stderr",
          "output_type": "stream",
          "text": [
            "Processing frames:  63%|██████▎   | 7040/11231 [11:53<09:49,  7.10it/s]"
          ]
        },
        {
          "name": "stdout",
          "output_type": "stream",
          "text": [
            "New shot detected at frame 7039\n"
          ]
        },
        {
          "name": "stderr",
          "output_type": "stream",
          "text": [
            "Processing frames:  63%|██████▎   | 7055/11231 [11:54<04:45, 14.62it/s]"
          ]
        },
        {
          "name": "stdout",
          "output_type": "stream",
          "text": [
            "Locking onto stable point (485, 485) for shot 105\n"
          ]
        },
        {
          "name": "stderr",
          "output_type": "stream",
          "text": [
            "Processing frames:  63%|██████▎   | 7092/11231 [11:58<09:59,  6.90it/s]"
          ]
        },
        {
          "name": "stdout",
          "output_type": "stream",
          "text": [
            "New shot detected at frame 7091\n"
          ]
        },
        {
          "name": "stderr",
          "output_type": "stream",
          "text": [
            "Processing frames:  63%|██████▎   | 7107/11231 [12:00<06:43, 10.22it/s]"
          ]
        },
        {
          "name": "stdout",
          "output_type": "stream",
          "text": [
            "Locking onto stable point (1044, 601) for shot 106\n"
          ]
        },
        {
          "name": "stderr",
          "output_type": "stream",
          "text": [
            "Processing frames:  64%|██████▎   | 7158/11231 [12:05<05:06, 13.30it/s]"
          ]
        },
        {
          "name": "stdout",
          "output_type": "stream",
          "text": [
            "New shot detected at frame 7157\n"
          ]
        },
        {
          "name": "stderr",
          "output_type": "stream",
          "text": [
            "Processing frames:  64%|██████▍   | 7183/11231 [12:07<09:15,  7.29it/s]"
          ]
        },
        {
          "name": "stdout",
          "output_type": "stream",
          "text": [
            "Locking onto stable point (988, 631) for shot 107\n"
          ]
        },
        {
          "name": "stderr",
          "output_type": "stream",
          "text": [
            "Processing frames:  64%|██████▍   | 7221/11231 [12:13<13:19,  5.02it/s]"
          ]
        },
        {
          "name": "stdout",
          "output_type": "stream",
          "text": [
            "New shot detected at frame 7220\n"
          ]
        },
        {
          "name": "stderr",
          "output_type": "stream",
          "text": [
            "Processing frames:  64%|██████▍   | 7236/11231 [12:16<09:39,  6.90it/s]"
          ]
        },
        {
          "name": "stdout",
          "output_type": "stream",
          "text": [
            "Locking onto stable point (699, 302) for shot 108\n"
          ]
        },
        {
          "name": "stderr",
          "output_type": "stream",
          "text": [
            "Processing frames:  66%|██████▌   | 7416/11231 [12:43<09:04,  7.01it/s]"
          ]
        },
        {
          "name": "stdout",
          "output_type": "stream",
          "text": [
            "New shot detected at frame 7415\n"
          ]
        },
        {
          "name": "stderr",
          "output_type": "stream",
          "text": [
            "Processing frames:  66%|██████▋   | 7444/11231 [12:47<09:05,  6.95it/s]"
          ]
        },
        {
          "name": "stdout",
          "output_type": "stream",
          "text": [
            "Locking onto stable point (1143, 298) for shot 109\n"
          ]
        },
        {
          "name": "stderr",
          "output_type": "stream",
          "text": [
            "Processing frames:  67%|██████▋   | 7516/11231 [12:58<08:48,  7.03it/s]"
          ]
        },
        {
          "name": "stdout",
          "output_type": "stream",
          "text": [
            "New shot detected at frame 7515\n"
          ]
        },
        {
          "name": "stderr",
          "output_type": "stream",
          "text": [
            "Processing frames:  67%|██████▋   | 7527/11231 [13:00<08:44,  7.06it/s]"
          ]
        },
        {
          "name": "stdout",
          "output_type": "stream",
          "text": [
            "Locking onto stable point (1365, 129) for shot 110\n"
          ]
        },
        {
          "name": "stderr",
          "output_type": "stream",
          "text": [
            "Processing frames:  67%|██████▋   | 7570/11231 [13:07<11:07,  5.48it/s]"
          ]
        },
        {
          "name": "stdout",
          "output_type": "stream",
          "text": [
            "New shot detected at frame 7569\n"
          ]
        },
        {
          "name": "stderr",
          "output_type": "stream",
          "text": [
            "Processing frames:  68%|██████▊   | 7581/11231 [13:08<08:48,  6.91it/s]"
          ]
        },
        {
          "name": "stdout",
          "output_type": "stream",
          "text": [
            "Locking onto stable point (642, 369) for shot 111\n"
          ]
        },
        {
          "name": "stderr",
          "output_type": "stream",
          "text": [
            "Processing frames:  68%|██████▊   | 7631/11231 [13:16<08:41,  6.91it/s]"
          ]
        },
        {
          "name": "stdout",
          "output_type": "stream",
          "text": [
            "New shot detected at frame 7630\n"
          ]
        },
        {
          "name": "stderr",
          "output_type": "stream",
          "text": [
            "Processing frames:  68%|██████▊   | 7642/11231 [13:19<12:38,  4.73it/s]"
          ]
        },
        {
          "name": "stdout",
          "output_type": "stream",
          "text": [
            "Locking onto stable point (682, 277) for shot 112\n"
          ]
        },
        {
          "name": "stderr",
          "output_type": "stream",
          "text": [
            "Processing frames:  69%|██████▉   | 7777/11231 [13:39<08:06,  7.10it/s]"
          ]
        },
        {
          "name": "stdout",
          "output_type": "stream",
          "text": [
            "New shot detected at frame 7776\n"
          ]
        },
        {
          "name": "stderr",
          "output_type": "stream",
          "text": [
            "Processing frames:  69%|██████▉   | 7788/11231 [13:40<08:08,  7.04it/s]"
          ]
        },
        {
          "name": "stdout",
          "output_type": "stream",
          "text": [
            "Locking onto stable point (654, 434) for shot 113\n"
          ]
        },
        {
          "name": "stderr",
          "output_type": "stream",
          "text": [
            "Processing frames:  70%|███████   | 7908/11231 [13:59<08:23,  6.60it/s]"
          ]
        },
        {
          "name": "stdout",
          "output_type": "stream",
          "text": [
            "New shot detected at frame 7907\n"
          ]
        },
        {
          "name": "stderr",
          "output_type": "stream",
          "text": [
            "Processing frames:  71%|███████   | 7919/11231 [14:01<07:42,  7.16it/s]"
          ]
        },
        {
          "name": "stdout",
          "output_type": "stream",
          "text": [
            "Locking onto stable point (933, 590) for shot 114\n"
          ]
        },
        {
          "name": "stderr",
          "output_type": "stream",
          "text": [
            "Processing frames:  71%|███████   | 7943/11231 [14:04<07:56,  6.91it/s]"
          ]
        },
        {
          "name": "stdout",
          "output_type": "stream",
          "text": [
            "New shot detected at frame 7942\n"
          ]
        },
        {
          "name": "stderr",
          "output_type": "stream",
          "text": [
            "Processing frames:  71%|███████   | 7954/11231 [14:06<07:36,  7.18it/s]"
          ]
        },
        {
          "name": "stdout",
          "output_type": "stream",
          "text": [
            "Locking onto stable point (838, 405) for shot 115\n"
          ]
        },
        {
          "name": "stderr",
          "output_type": "stream",
          "text": [
            "Processing frames:  73%|███████▎  | 8154/11231 [14:22<03:28, 14.77it/s]"
          ]
        },
        {
          "name": "stdout",
          "output_type": "stream",
          "text": [
            "New shot detected at frame 8154\n"
          ]
        },
        {
          "name": "stderr",
          "output_type": "stream",
          "text": [
            "Processing frames:  73%|███████▎  | 8167/11231 [14:24<09:50,  5.19it/s]"
          ]
        },
        {
          "name": "stdout",
          "output_type": "stream",
          "text": [
            "Locking onto stable point (858, 684) for shot 116\n"
          ]
        },
        {
          "name": "stderr",
          "output_type": "stream",
          "text": [
            "Processing frames:  74%|███████▍  | 8289/11231 [14:43<06:53,  7.12it/s]"
          ]
        },
        {
          "name": "stdout",
          "output_type": "stream",
          "text": [
            "New shot detected at frame 8288\n"
          ]
        },
        {
          "name": "stderr",
          "output_type": "stream",
          "text": [
            "Processing frames:  74%|███████▍  | 8300/11231 [14:44<06:53,  7.09it/s]"
          ]
        },
        {
          "name": "stdout",
          "output_type": "stream",
          "text": [
            "Locking onto stable point (853, 677) for shot 117\n"
          ]
        },
        {
          "name": "stderr",
          "output_type": "stream",
          "text": [
            "Processing frames:  74%|███████▍  | 8334/11231 [14:50<09:38,  5.01it/s]"
          ]
        },
        {
          "name": "stdout",
          "output_type": "stream",
          "text": [
            "New shot detected at frame 8333\n"
          ]
        },
        {
          "name": "stderr",
          "output_type": "stream",
          "text": [
            "Processing frames:  74%|███████▍  | 8345/11231 [14:51<07:18,  6.58it/s]"
          ]
        },
        {
          "name": "stdout",
          "output_type": "stream",
          "text": [
            "Locking onto stable point (709, 498) for shot 118\n"
          ]
        },
        {
          "name": "stderr",
          "output_type": "stream",
          "text": [
            "Processing frames:  75%|███████▍  | 8372/11231 [14:55<06:52,  6.93it/s]"
          ]
        },
        {
          "name": "stdout",
          "output_type": "stream",
          "text": [
            "New shot detected at frame 8371\n"
          ]
        },
        {
          "name": "stderr",
          "output_type": "stream",
          "text": [
            "Processing frames:  75%|███████▍  | 8397/11231 [14:57<04:05, 11.57it/s]"
          ]
        },
        {
          "name": "stdout",
          "output_type": "stream",
          "text": [
            "Locking onto stable point (633, 405) for shot 119\n"
          ]
        },
        {
          "name": "stderr",
          "output_type": "stream",
          "text": [
            "Processing frames:  76%|███████▌  | 8480/11231 [15:09<05:33,  8.25it/s]"
          ]
        },
        {
          "name": "stdout",
          "output_type": "stream",
          "text": [
            "New shot detected at frame 8479\n"
          ]
        },
        {
          "name": "stderr",
          "output_type": "stream",
          "text": [
            "Processing frames:  76%|███████▌  | 8502/11231 [15:11<03:03, 14.84it/s]"
          ]
        },
        {
          "name": "stdout",
          "output_type": "stream",
          "text": [
            "Locking onto stable point (1323, 674) for shot 120\n"
          ]
        },
        {
          "name": "stderr",
          "output_type": "stream",
          "text": [
            "Processing frames:  76%|███████▌  | 8554/11231 [15:14<03:49, 11.66it/s]"
          ]
        },
        {
          "name": "stdout",
          "output_type": "stream",
          "text": [
            "New shot detected at frame 8552\n"
          ]
        },
        {
          "name": "stderr",
          "output_type": "stream",
          "text": [
            "Processing frames:  76%|███████▋  | 8567/11231 [15:16<06:49,  6.51it/s]"
          ]
        },
        {
          "name": "stdout",
          "output_type": "stream",
          "text": [
            "Locking onto stable point (654, 580) for shot 121\n"
          ]
        },
        {
          "name": "stderr",
          "output_type": "stream",
          "text": [
            "Processing frames:  76%|███████▋  | 8586/11231 [15:19<06:27,  6.82it/s]"
          ]
        },
        {
          "name": "stdout",
          "output_type": "stream",
          "text": [
            "New shot detected at frame 8585\n"
          ]
        },
        {
          "name": "stderr",
          "output_type": "stream",
          "text": [
            "Processing frames:  77%|███████▋  | 8602/11231 [15:21<06:23,  6.86it/s]"
          ]
        },
        {
          "name": "stdout",
          "output_type": "stream",
          "text": [
            "Locking onto stable point (1429, 25) for shot 122\n"
          ]
        },
        {
          "name": "stderr",
          "output_type": "stream",
          "text": [
            "Processing frames:  78%|███████▊  | 8761/11231 [15:46<06:09,  6.69it/s]"
          ]
        },
        {
          "name": "stdout",
          "output_type": "stream",
          "text": [
            "New shot detected at frame 8760\n"
          ]
        },
        {
          "name": "stderr",
          "output_type": "stream",
          "text": [
            "Processing frames:  78%|███████▊  | 8772/11231 [15:48<06:01,  6.80it/s]"
          ]
        },
        {
          "name": "stdout",
          "output_type": "stream",
          "text": [
            "Locking onto stable point (1163, 68) for shot 123\n"
          ]
        },
        {
          "name": "stderr",
          "output_type": "stream",
          "text": [
            "Processing frames:  79%|███████▉  | 8875/11231 [16:04<05:39,  6.94it/s]"
          ]
        },
        {
          "name": "stdout",
          "output_type": "stream",
          "text": [
            "New shot detected at frame 8874\n"
          ]
        },
        {
          "name": "stderr",
          "output_type": "stream",
          "text": [
            "Processing frames:  79%|███████▉  | 8886/11231 [16:05<05:35,  7.00it/s]"
          ]
        },
        {
          "name": "stdout",
          "output_type": "stream",
          "text": [
            "Locking onto stable point (940, 112) for shot 124\n"
          ]
        },
        {
          "name": "stderr",
          "output_type": "stream",
          "text": [
            "Processing frames:  80%|████████  | 8989/11231 [16:22<07:47,  4.80it/s]"
          ]
        },
        {
          "name": "stdout",
          "output_type": "stream",
          "text": [
            "New shot detected at frame 8989\n"
          ]
        },
        {
          "name": "stderr",
          "output_type": "stream",
          "text": [
            "Processing frames:  80%|████████  | 9012/11231 [16:25<05:16,  7.00it/s]"
          ]
        },
        {
          "name": "stdout",
          "output_type": "stream",
          "text": [
            "Locking onto stable point (604, 327) for shot 125\n"
          ]
        },
        {
          "name": "stderr",
          "output_type": "stream",
          "text": [
            "Processing frames:  80%|████████  | 9016/11231 [16:26<05:16,  7.00it/s]"
          ]
        },
        {
          "name": "stdout",
          "output_type": "stream",
          "text": [
            "New shot detected at frame 9015\n"
          ]
        },
        {
          "name": "stderr",
          "output_type": "stream",
          "text": [
            "Processing frames:  80%|████████  | 9027/11231 [16:27<05:09,  7.12it/s]"
          ]
        },
        {
          "name": "stdout",
          "output_type": "stream",
          "text": [
            "Locking onto stable point (833, 448) for shot 126\n"
          ]
        },
        {
          "name": "stderr",
          "output_type": "stream",
          "text": [
            "Processing frames:  81%|████████  | 9084/11231 [16:36<05:10,  6.92it/s]"
          ]
        },
        {
          "name": "stdout",
          "output_type": "stream",
          "text": [
            "New shot detected at frame 9083\n"
          ]
        },
        {
          "name": "stderr",
          "output_type": "stream",
          "text": [
            "Processing frames:  81%|████████  | 9095/11231 [16:38<05:11,  6.86it/s]"
          ]
        },
        {
          "name": "stdout",
          "output_type": "stream",
          "text": [
            "Locking onto stable point (617, 498) for shot 127\n"
          ]
        },
        {
          "name": "stderr",
          "output_type": "stream",
          "text": [
            "Processing frames:  82%|████████▏ | 9225/11231 [16:57<05:08,  6.49it/s]"
          ]
        },
        {
          "name": "stdout",
          "output_type": "stream",
          "text": [
            "New shot detected at frame 9224\n"
          ]
        },
        {
          "name": "stderr",
          "output_type": "stream",
          "text": [
            "Processing frames:  82%|████████▏ | 9248/11231 [17:01<03:29,  9.48it/s]"
          ]
        },
        {
          "name": "stdout",
          "output_type": "stream",
          "text": [
            "Locking onto stable point (944, 633) for shot 128\n"
          ]
        },
        {
          "name": "stderr",
          "output_type": "stream",
          "text": [
            "Processing frames:  83%|████████▎ | 9350/11231 [17:07<02:18, 13.57it/s]"
          ]
        },
        {
          "name": "stdout",
          "output_type": "stream",
          "text": [
            "New shot detected at frame 9349\n"
          ]
        },
        {
          "name": "stderr",
          "output_type": "stream",
          "text": [
            "Processing frames:  84%|████████▍ | 9423/11231 [17:14<02:18, 13.04it/s]"
          ]
        },
        {
          "name": "stdout",
          "output_type": "stream",
          "text": [
            "Locking onto stable point (786, 545) for shot 129\n",
            "New shot detected at frame 9424\n"
          ]
        },
        {
          "name": "stderr",
          "output_type": "stream",
          "text": [
            "Processing frames:  84%|████████▍ | 9480/11231 [17:22<04:06,  7.12it/s]"
          ]
        },
        {
          "name": "stdout",
          "output_type": "stream",
          "text": [
            "Locking onto stable point (854, 605) for shot 130\n"
          ]
        },
        {
          "name": "stderr",
          "output_type": "stream",
          "text": [
            "Processing frames:  85%|████████▍ | 9511/11231 [17:27<06:03,  4.73it/s]"
          ]
        },
        {
          "name": "stdout",
          "output_type": "stream",
          "text": [
            "New shot detected at frame 9511\n"
          ]
        },
        {
          "name": "stderr",
          "output_type": "stream",
          "text": [
            "Processing frames:  85%|████████▍ | 9531/11231 [17:31<04:24,  6.44it/s]"
          ]
        },
        {
          "name": "stdout",
          "output_type": "stream",
          "text": [
            "Locking onto stable point (895, 946) for shot 131\n"
          ]
        },
        {
          "name": "stderr",
          "output_type": "stream",
          "text": [
            "Processing frames:  86%|████████▌ | 9652/11231 [17:39<02:11, 12.02it/s]"
          ]
        },
        {
          "name": "stdout",
          "output_type": "stream",
          "text": [
            "New shot detected at frame 9650\n"
          ]
        },
        {
          "name": "stderr",
          "output_type": "stream",
          "text": [
            "Processing frames:  86%|████████▌ | 9662/11231 [17:40<02:24, 10.84it/s]"
          ]
        },
        {
          "name": "stdout",
          "output_type": "stream",
          "text": [
            "Locking onto stable point (1213, 678) for shot 132\n"
          ]
        },
        {
          "name": "stderr",
          "output_type": "stream",
          "text": [
            "Processing frames:  86%|████████▋ | 9708/11231 [17:44<01:38, 15.47it/s]"
          ]
        },
        {
          "name": "stdout",
          "output_type": "stream",
          "text": [
            "New shot detected at frame 9705\n"
          ]
        },
        {
          "name": "stderr",
          "output_type": "stream",
          "text": [
            "Processing frames:  87%|████████▋ | 9716/11231 [17:44<02:36,  9.69it/s]"
          ]
        },
        {
          "name": "stdout",
          "output_type": "stream",
          "text": [
            "Locking onto stable point (851, 709) for shot 133\n"
          ]
        },
        {
          "name": "stderr",
          "output_type": "stream",
          "text": [
            "Processing frames:  88%|████████▊ | 9852/11231 [18:05<03:24,  6.74it/s]"
          ]
        },
        {
          "name": "stdout",
          "output_type": "stream",
          "text": [
            "New shot detected at frame 9851\n"
          ]
        },
        {
          "name": "stderr",
          "output_type": "stream",
          "text": [
            "Processing frames:  88%|████████▊ | 9916/11231 [18:15<03:07,  7.02it/s]"
          ]
        },
        {
          "name": "stdout",
          "output_type": "stream",
          "text": [
            "New shot detected at frame 9915\n"
          ]
        },
        {
          "name": "stderr",
          "output_type": "stream",
          "text": [
            "Processing frames:  88%|████████▊ | 9936/11231 [18:17<01:26, 15.01it/s]"
          ]
        },
        {
          "name": "stdout",
          "output_type": "stream",
          "text": [
            "Locking onto stable point (770, 589) for shot 135\n"
          ]
        },
        {
          "name": "stderr",
          "output_type": "stream",
          "text": [
            "Processing frames:  90%|████████▉ | 10056/11231 [18:25<01:15, 15.59it/s]"
          ]
        },
        {
          "name": "stdout",
          "output_type": "stream",
          "text": [
            "New shot detected at frame 10054\n"
          ]
        },
        {
          "name": "stderr",
          "output_type": "stream",
          "text": [
            "Processing frames:  90%|████████▉ | 10068/11231 [18:26<01:15, 15.43it/s]"
          ]
        },
        {
          "name": "stdout",
          "output_type": "stream",
          "text": [
            "Locking onto stable point (1150, 672) for shot 136\n"
          ]
        },
        {
          "name": "stderr",
          "output_type": "stream",
          "text": [
            "Processing frames:  90%|█████████ | 10129/11231 [18:32<03:15,  5.64it/s]"
          ]
        },
        {
          "name": "stdout",
          "output_type": "stream",
          "text": [
            "New shot detected at frame 10128\n"
          ]
        },
        {
          "name": "stderr",
          "output_type": "stream",
          "text": [
            "Processing frames:  90%|█████████ | 10146/11231 [18:33<01:43, 10.52it/s]"
          ]
        },
        {
          "name": "stdout",
          "output_type": "stream",
          "text": [
            "Locking onto stable point (723, 735) for shot 137\n"
          ]
        },
        {
          "name": "stderr",
          "output_type": "stream",
          "text": [
            "Processing frames:  91%|█████████ | 10170/11231 [18:35<01:11, 14.94it/s]"
          ]
        },
        {
          "name": "stdout",
          "output_type": "stream",
          "text": [
            "New shot detected at frame 10167\n"
          ]
        },
        {
          "name": "stderr",
          "output_type": "stream",
          "text": [
            "Processing frames:  91%|█████████ | 10186/11231 [18:36<01:39, 10.55it/s]"
          ]
        },
        {
          "name": "stdout",
          "output_type": "stream",
          "text": [
            "Locking onto stable point (1287, 434) for shot 138\n"
          ]
        },
        {
          "name": "stderr",
          "output_type": "stream",
          "text": [
            "Processing frames:  91%|█████████ | 10235/11231 [18:42<01:06, 14.97it/s]"
          ]
        },
        {
          "name": "stdout",
          "output_type": "stream",
          "text": [
            "New shot detected at frame 10233\n"
          ]
        },
        {
          "name": "stderr",
          "output_type": "stream",
          "text": [
            "Processing frames:  91%|█████████ | 10245/11231 [18:43<01:47,  9.18it/s]"
          ]
        },
        {
          "name": "stdout",
          "output_type": "stream",
          "text": [
            "Locking onto stable point (701, 702) for shot 139\n"
          ]
        },
        {
          "name": "stderr",
          "output_type": "stream",
          "text": [
            "Processing frames:  92%|█████████▏| 10280/11231 [18:49<02:20,  6.78it/s]"
          ]
        },
        {
          "name": "stdout",
          "output_type": "stream",
          "text": [
            "New shot detected at frame 10279\n"
          ]
        },
        {
          "name": "stderr",
          "output_type": "stream",
          "text": [
            "Processing frames:  92%|█████████▏| 10291/11231 [18:50<02:12,  7.10it/s]"
          ]
        },
        {
          "name": "stdout",
          "output_type": "stream",
          "text": [
            "Locking onto stable point (620, 697) for shot 140\n"
          ]
        },
        {
          "name": "stderr",
          "output_type": "stream",
          "text": [
            "Processing frames:  93%|█████████▎| 10463/11231 [19:17<01:51,  6.86it/s]"
          ]
        },
        {
          "name": "stdout",
          "output_type": "stream",
          "text": [
            "New shot detected at frame 10462\n"
          ]
        },
        {
          "name": "stderr",
          "output_type": "stream",
          "text": [
            "Processing frames:  94%|█████████▎| 10507/11231 [19:23<01:44,  6.91it/s]"
          ]
        },
        {
          "name": "stdout",
          "output_type": "stream",
          "text": [
            "Locking onto stable point (133, 1064) for shot 141\n",
            "New shot detected at frame 10507\n"
          ]
        },
        {
          "name": "stderr",
          "output_type": "stream",
          "text": [
            "Processing frames:  94%|█████████▍| 10530/11231 [19:27<01:45,  6.63it/s]"
          ]
        },
        {
          "name": "stdout",
          "output_type": "stream",
          "text": [
            "Locking onto stable point (1167, 276) for shot 142\n"
          ]
        },
        {
          "name": "stderr",
          "output_type": "stream",
          "text": [
            "Processing frames:  95%|█████████▍| 10638/11231 [19:38<00:53, 10.99it/s]"
          ]
        },
        {
          "name": "stdout",
          "output_type": "stream",
          "text": [
            "New shot detected at frame 10636\n"
          ]
        },
        {
          "name": "stderr",
          "output_type": "stream",
          "text": [
            "Processing frames:  96%|█████████▌| 10752/11231 [19:55<01:08,  7.04it/s]"
          ]
        },
        {
          "name": "stdout",
          "output_type": "stream",
          "text": [
            "Locking onto stable point (948, 563) for shot 143\n"
          ]
        },
        {
          "name": "stderr",
          "output_type": "stream",
          "text": [
            "Processing frames:  97%|█████████▋| 10850/11231 [20:10<00:54,  6.95it/s]"
          ]
        },
        {
          "name": "stdout",
          "output_type": "stream",
          "text": [
            "New shot detected at frame 10849\n"
          ]
        },
        {
          "name": "stderr",
          "output_type": "stream",
          "text": [
            "Processing frames:  97%|█████████▋| 10888/11231 [20:14<00:23, 14.57it/s]"
          ]
        },
        {
          "name": "stdout",
          "output_type": "stream",
          "text": [
            "Locking onto stable point (616, 532) for shot 144\n"
          ]
        },
        {
          "name": "stderr",
          "output_type": "stream",
          "text": [
            "Processing frames:  98%|█████████▊| 10962/11231 [20:20<00:18, 14.73it/s]"
          ]
        },
        {
          "name": "stdout",
          "output_type": "stream",
          "text": [
            "New shot detected at frame 10961\n"
          ]
        },
        {
          "name": "stderr",
          "output_type": "stream",
          "text": [
            "Processing frames:  98%|█████████▊| 10978/11231 [20:21<00:16, 15.02it/s]"
          ]
        },
        {
          "name": "stdout",
          "output_type": "stream",
          "text": [
            "Locking onto stable point (1375, 664) for shot 145\n"
          ]
        },
        {
          "name": "stderr",
          "output_type": "stream",
          "text": [
            "Processing frames:  98%|█████████▊| 11000/11231 [20:22<00:15, 15.10it/s]"
          ]
        },
        {
          "name": "stdout",
          "output_type": "stream",
          "text": [
            "New shot detected at frame 10997\n"
          ]
        },
        {
          "name": "stderr",
          "output_type": "stream",
          "text": [
            "Processing frames:  98%|█████████▊| 11035/11231 [20:27<00:27,  7.05it/s]"
          ]
        },
        {
          "name": "stdout",
          "output_type": "stream",
          "text": [
            "Locking onto stable point (897, 304) for shot 146\n"
          ]
        },
        {
          "name": "stderr",
          "output_type": "stream",
          "text": [
            "Processing frames:  98%|█████████▊| 11052/11231 [20:29<00:32,  5.58it/s]"
          ]
        },
        {
          "name": "stdout",
          "output_type": "stream",
          "text": [
            "New shot detected at frame 11052\n"
          ]
        },
        {
          "name": "stderr",
          "output_type": "stream",
          "text": [
            "Processing frames:  99%|█████████▊| 11079/11231 [20:33<00:10, 14.08it/s]"
          ]
        },
        {
          "name": "stdout",
          "output_type": "stream",
          "text": [
            "Locking onto stable point (700, 664) for shot 147\n"
          ]
        },
        {
          "name": "stderr",
          "output_type": "stream",
          "text": [
            "Processing frames:  99%|█████████▉| 11101/11231 [20:34<00:08, 15.63it/s]"
          ]
        },
        {
          "name": "stdout",
          "output_type": "stream",
          "text": [
            "New shot detected at frame 11099\n"
          ]
        },
        {
          "name": "stderr",
          "output_type": "stream",
          "text": [
            "Processing frames:  99%|█████████▉| 11117/11231 [20:35<00:12,  9.33it/s]"
          ]
        },
        {
          "name": "stdout",
          "output_type": "stream",
          "text": [
            "Locking onto stable point (925, 628) for shot 148\n"
          ]
        },
        {
          "name": "stderr",
          "output_type": "stream",
          "text": [
            "Processing frames:  99%|█████████▉| 11167/11231 [20:43<00:12,  5.30it/s]"
          ]
        },
        {
          "name": "stdout",
          "output_type": "stream",
          "text": [
            "New shot detected at frame 11166\n"
          ]
        },
        {
          "name": "stderr",
          "output_type": "stream",
          "text": [
            "Processing frames: 100%|█████████▉| 11178/11231 [20:45<00:10,  5.05it/s]"
          ]
        },
        {
          "name": "stdout",
          "output_type": "stream",
          "text": [
            "Locking onto stable point (1478, 733) for shot 149\n"
          ]
        },
        {
          "name": "stderr",
          "output_type": "stream",
          "text": [
            "Processing frames: 100%|█████████▉| 11203/11231 [20:48<00:02, 11.91it/s]"
          ]
        },
        {
          "name": "stdout",
          "output_type": "stream",
          "text": [
            "New shot detected at frame 11201\n"
          ]
        },
        {
          "name": "stderr",
          "output_type": "stream",
          "text": [
            "Processing frames: 100%|█████████▉| 11217/11231 [20:49<00:00, 14.88it/s]"
          ]
        },
        {
          "name": "stdout",
          "output_type": "stream",
          "text": [
            "Locking onto stable point (579, 501) for shot 150\n"
          ]
        },
        {
          "name": "stderr",
          "output_type": "stream",
          "text": [
            "Processing frames: 100%|██████████| 11231/11231 [20:50<00:00,  8.98it/s]\n"
          ]
        },
        {
          "name": "stdout",
          "output_type": "stream",
          "text": [
            "Adding audio track to the processed video...\n"
          ]
        }
      ],
      "source": [
        "import cv2\n",
        "import numpy as np\n",
        "import scenedetect\n",
        "from scenedetect import VideoManager, SceneManager\n",
        "from scenedetect.detectors import ContentDetector\n",
        "import mediapipe as mp\n",
        "import json\n",
        "import os\n",
        "import subprocess\n",
        "from tqdm import tqdm\n",
        "import collections\n",
        "\n",
        "class H2VProcessor:\n",
        "    def __init__(self):\n",
        "        # Initialize MediaPipe solutions\n",
        "        self.mp_face_detection = mp.solutions.face_detection\n",
        "        self.mp_face_detection_model = self.mp_face_detection.FaceDetection(min_detection_confidence=0.5)\n",
        "        self.mp_pose = mp.solutions.pose\n",
        "        self.mp_pose_model = self.mp_pose.Pose(min_detection_confidence=0.5,\n",
        "                                              min_tracking_confidence=0.5)\n",
        "\n",
        "        # Anti-flickering parameters\n",
        "        self.focus_point_history = collections.deque(maxlen=30)  # Store more history for better smoothing\n",
        "        self.crop_history = collections.deque(maxlen=30)  # Store crop region history\n",
        "        self.prev_focus_point = None\n",
        "        self.focus_points_data = []\n",
        "        self.stability_weights = np.array([0.05, 0.1, 0.15, 0.2, 0.5])  # More weight on recent frames\n",
        "        self.stability_weights = self.stability_weights / np.sum(self.stability_weights)  # Normalize\n",
        "\n",
        "        # Shot detection state\n",
        "        self.current_shot_id = 0\n",
        "        self.shot_boundaries = []\n",
        "        self.current_shot_stable_point = None\n",
        "\n",
        "    def detect_scenes(self, video_path):\n",
        "        \"\"\"Split video into scenes using PySceneDetect with higher threshold for stability\"\"\"\n",
        "        video_manager = VideoManager([video_path])\n",
        "        scene_manager = SceneManager()\n",
        "        # Higher threshold means fewer scene changes, more stability\n",
        "        scene_manager.add_detector(ContentDetector(threshold=40))\n",
        "\n",
        "        video_manager.start()\n",
        "        scene_manager.detect_scenes(frame_source=video_manager)\n",
        "\n",
        "        scene_list = scene_manager.get_scene_list()\n",
        "        # Store scene boundaries for reference during processing\n",
        "        self.shot_boundaries = [(scene[0].frame_num, scene[1].frame_num) for scene in scene_list]\n",
        "        return scene_list\n",
        "\n",
        "    def detect_faces(self, frame):\n",
        "        \"\"\"Detect faces in the frame\"\"\"\n",
        "        results = self.mp_face_detection_model.process(cv2.cvtColor(frame, cv2.COLOR_BGR2RGB))\n",
        "        faces = []\n",
        "        if results.detections:\n",
        "            for detection in results.detections:\n",
        "                bboxC = detection.location_data.relative_bounding_box\n",
        "                ih, iw, _ = frame.shape\n",
        "                x, y, w, h = int(bboxC.xmin * iw), int(bboxC.ymin * ih), \\\n",
        "                             int(bboxC.width * iw), int(bboxC.height * ih)\n",
        "                # Add confidence score to help with stability\n",
        "                confidence = detection.score[0]\n",
        "                faces.append((x, y, w, h, confidence))\n",
        "        return faces\n",
        "\n",
        "    def detect_people(self, frame):\n",
        "        \"\"\"Detect people using pose estimation\"\"\"\n",
        "        results = self.mp_pose_model.process(cv2.cvtColor(frame, cv2.COLOR_BGR2RGB))\n",
        "        people = []\n",
        "        if results.pose_landmarks:\n",
        "            h, w, _ = frame.shape\n",
        "            # Get upper body landmarks for better stability\n",
        "            landmarks = results.pose_landmarks.landmark\n",
        "\n",
        "            # Check if key points are visible (nose, shoulders, hips)\n",
        "            key_points = [0, 11, 12, 23, 24]  # Indices for nose, shoulders, and hips\n",
        "            visible_confidence = sum(landmarks[i].visibility for i in key_points) / len(key_points)\n",
        "\n",
        "            if visible_confidence > 0.7:  # Only track if confident\n",
        "                # Calculate center of mass from upper body landmarks for stability\n",
        "                upper_body_x = np.mean([landmarks[i].x for i in key_points if landmarks[i].visibility > 0.5]) * w\n",
        "                upper_body_y = np.mean([landmarks[i].y for i in key_points if landmarks[i].visibility > 0.5]) * h\n",
        "\n",
        "                people.append((int(upper_body_x), int(upper_body_y), visible_confidence))\n",
        "\n",
        "        return people\n",
        "\n",
        "\n",
        "    def detect_motion(self, prev_frame, curr_frame):\n",
        "      \"\"\"Detect significant motion between frames using optical flow\"\"\"\n",
        "      if prev_frame is None:\n",
        "        return None\n",
        "\n",
        "      # Convert frames to grayscale\n",
        "      prev_gray = cv2.cvtColor(prev_frame, cv2.COLOR_BGR2GRAY)\n",
        "      curr_gray = cv2.cvtColor(curr_frame, cv2.COLOR_BGR2GRAY)\n",
        "\n",
        "      # Calculate sparse optical flow using Lucas-Kanade method\n",
        "      # This is more stable than dense optical flow\n",
        "      feature_params = dict(maxCorners=100, qualityLevel=0.3, minDistance=7, blockSize=7)\n",
        "      prev_points = cv2.goodFeaturesToTrack(prev_gray, mask=None, **feature_params)\n",
        "\n",
        "      if prev_points is None or len(prev_points) == 0:\n",
        "        return None\n",
        "\n",
        "      # Use Lucas-Kanade optical flow\n",
        "      lk_params = dict(winSize=(15, 15), maxLevel=2,\n",
        "                     criteria=(cv2.TERM_CRITERIA_EPS | cv2.TERM_CRITERIA_COUNT, 10, 0.03))\n",
        "\n",
        "      next_points, status, _ = cv2.calcOpticalFlowPyrLK(prev_gray, curr_gray, prev_points, None, **lk_params)\n",
        "\n",
        "      if next_points is None:\n",
        "        return None\n",
        "\n",
        "      # Select good points\n",
        "      good_new = next_points[status == 1]\n",
        "      good_old = prev_points[status == 1]\n",
        "\n",
        "      if len(good_new) == 0:\n",
        "        return None\n",
        "\n",
        "      # Calculate the movement vectors\n",
        "      movements = good_new - good_old\n",
        "\n",
        "      # Calculate magnitudes for each point (fix the indexing issue)\n",
        "      magnitudes = np.sqrt(np.sum(movements**2, axis=1))\n",
        "\n",
        "      # If no significant motion, return None\n",
        "      if np.max(magnitudes) < 5:  # Threshold for significant motion\n",
        "        return None\n",
        "\n",
        "      # Find the point with maximum movement\n",
        "      max_idx = np.argmax(magnitudes)\n",
        "      x, y = good_new[max_idx].ravel()  # Use ravel to flatten the point\n",
        "\n",
        "      return (int(x), int(y))\n",
        "\n",
        "    def is_new_shot(self, frame_idx):\n",
        "        \"\"\"Check if current frame is at a scene boundary\"\"\"\n",
        "        for start, end in self.shot_boundaries:\n",
        "            if frame_idx == start:\n",
        "                self.current_shot_id += 1\n",
        "                self.current_shot_stable_point = None\n",
        "                return True\n",
        "        return False\n",
        "\n",
        "    def get_focus_point(self, frame, prev_frame=None, frame_idx=0, is_speaking=False):\n",
        "        \"\"\"Determine the main focus point in the frame with stability measures\"\"\"\n",
        "        h, w, _ = frame.shape\n",
        "\n",
        "        # Check if we're at a scene boundary\n",
        "        if self.is_new_shot(frame_idx):\n",
        "            # Reset tracking for new shot\n",
        "            self.focus_point_history.clear()\n",
        "            print(f\"New shot detected at frame {frame_idx}\")\n",
        "\n",
        "        # Get candidate focus points with confidence scores\n",
        "        candidates = []\n",
        "\n",
        "        # Priority 1: Speaking person\n",
        "        if is_speaking:\n",
        "            faces = self.detect_faces(frame)\n",
        "            if faces:\n",
        "                # Sort by confidence * size\n",
        "                faces.sort(key=lambda face: face[4] * (face[2] * face[3]), reverse=True)\n",
        "                for x, y, fw, fh, conf in faces:\n",
        "                    candidates.append(((x + fw // 2, y + fh // 2), conf * 1.5))  # Boost confidence for speakers\n",
        "\n",
        "        # Priority 2: People in frame\n",
        "        people = self.detect_people(frame)\n",
        "        if people:\n",
        "            for x, y, conf in people:\n",
        "                candidates.append(((x, y), conf * 1.2))  # Slightly boost people detection\n",
        "\n",
        "        # Priority 3: Motion detection (least reliable, lowest confidence)\n",
        "        if len(candidates) == 0:  # Only use motion if no people detected\n",
        "            motion_point = self.detect_motion(prev_frame, frame)\n",
        "            if motion_point:\n",
        "                candidates.append((motion_point, 0.5))  # Lower confidence for motion\n",
        "\n",
        "        # If we have candidates, select the highest confidence one\n",
        "        best_candidate = None\n",
        "        best_confidence = 0\n",
        "\n",
        "        for point, confidence in candidates:\n",
        "            if confidence > best_confidence:\n",
        "                best_candidate = point\n",
        "                best_confidence = confidence\n",
        "\n",
        "        # If no candidates found, use center of frame or previous point\n",
        "        if best_candidate is None:\n",
        "            if self.prev_focus_point:\n",
        "                return self.prev_focus_point\n",
        "            else:\n",
        "                return (w // 2, h // 2)\n",
        "\n",
        "        return best_candidate\n",
        "\n",
        "    def adaptive_smooth_focus_point(self, new_point, frame_idx, shot_id):\n",
        "        \"\"\"\n",
        "        Advanced smoothing algorithm with adaptive parameters based on content\n",
        "        - More smoothing for static scenes\n",
        "        - Less smoothing for fast-moving content\n",
        "        - Scene-aware stabilization\n",
        "        \"\"\"\n",
        "        # Initialize if this is the first point\n",
        "        if self.prev_focus_point is None:\n",
        "            self.prev_focus_point = new_point\n",
        "            self.focus_point_history.append(new_point)\n",
        "            return new_point\n",
        "\n",
        "        # Add new point to history\n",
        "        self.focus_point_history.append(new_point)\n",
        "\n",
        "        # Different smoothing approach based on history length\n",
        "        if len(self.focus_point_history) < 5:\n",
        "            # Not enough history, use simple exponential smoothing\n",
        "            alpha = 0.3  # Lower alpha = more smoothing\n",
        "            smoothed_x = int(alpha * new_point[0] + (1 - alpha) * self.prev_focus_point[0])\n",
        "            smoothed_y = int(alpha * new_point[1] + (1 - alpha) * self.prev_focus_point[1])\n",
        "        else:\n",
        "            # Calculate motion variance to determine how much smoothing to apply\n",
        "            recent_points = list(self.focus_point_history)[-5:]\n",
        "            x_coords = [p[0] for p in recent_points]\n",
        "            y_coords = [p[1] for p in recent_points]\n",
        "\n",
        "            x_variance = np.var(x_coords)\n",
        "            y_variance = np.var(y_coords)\n",
        "\n",
        "            # Adaptive smoothing - more stable for low variance, more responsive for high variance\n",
        "            if x_variance < 100 and y_variance < 100:\n",
        "                # Low movement - strong smoothing\n",
        "                weights = np.array([0.1, 0.1, 0.2, 0.2, 0.4])  # More weight on recent frames\n",
        "            elif x_variance > 1000 or y_variance > 1000:\n",
        "                # High movement - minimal smoothing\n",
        "                weights = np.array([0.05, 0.05, 0.1, 0.3, 0.5])  # Much more weight on current frame\n",
        "            else:\n",
        "                # Medium movement - moderate smoothing\n",
        "                weights = np.array([0.05, 0.1, 0.15, 0.3, 0.4])\n",
        "\n",
        "            # Normalize weights\n",
        "            weights = weights / np.sum(weights)\n",
        "\n",
        "            # Apply weighted average to recent points\n",
        "            smoothed_x = int(np.sum([p[0] * w for p, w in zip(recent_points, weights)]))\n",
        "            smoothed_y = int(np.sum([p[1] * w for p, w in zip(recent_points, weights)]))\n",
        "\n",
        "        # Determine if we should \"lock\" onto a stable subject\n",
        "        # For example, in static shots with minimal movement\n",
        "        if len(self.focus_point_history) >= 10:\n",
        "            recent_x = [p[0] for p in list(self.focus_point_history)[-10:]]\n",
        "            recent_y = [p[1] for p in list(self.focus_point_history)[-10:]]\n",
        "\n",
        "            # If movement is very small over multiple frames, lock onto the average position\n",
        "            if np.std(recent_x) < 20 and np.std(recent_y) < 20:\n",
        "                if self.current_shot_stable_point is None:\n",
        "                    # We found a stable point, lock onto it for this shot\n",
        "                    self.current_shot_stable_point = (int(np.mean(recent_x)), int(np.mean(recent_y)))\n",
        "                    print(f\"Locking onto stable point {self.current_shot_stable_point} for shot {shot_id}\")\n",
        "\n",
        "                # Use the stable point with slight adjustment towards current point\n",
        "                if self.current_shot_stable_point:\n",
        "                    smoothed_x = int(0.9 * self.current_shot_stable_point[0] + 0.1 * smoothed_x)\n",
        "                    smoothed_y = int(0.9 * self.current_shot_stable_point[1] + 0.1 * smoothed_y)\n",
        "\n",
        "        # Update previous focus point for next iteration\n",
        "        self.prev_focus_point = (smoothed_x, smoothed_y)\n",
        "        return self.prev_focus_point\n",
        "\n",
        "    def crop_with_stability(self, frame, focus_point, aspect_ratio=9/16):\n",
        "        \"\"\"Crop the frame with temporal stability to prevent border flickering\"\"\"\n",
        "        h, w = frame.shape[:2]\n",
        "\n",
        "        # Calculate crop dimensions for target aspect ratio\n",
        "        target_width = int(h * aspect_ratio)\n",
        "\n",
        "        # Center the crop on the focus point\n",
        "        x_center, y_center = focus_point\n",
        "\n",
        "        # Calculate initial crop boundaries\n",
        "        left = max(0, x_center - target_width // 2)\n",
        "        right = min(w, left + target_width)\n",
        "\n",
        "        # Adjust if we hit the edge of the frame\n",
        "        if right == w:\n",
        "            left = max(0, w - target_width)\n",
        "        if left == 0:\n",
        "            right = min(w, target_width)\n",
        "\n",
        "        # Add current crop to history\n",
        "        current_crop = (left, right)\n",
        "        self.crop_history.append(current_crop)\n",
        "\n",
        "        # Stabilize crop boundaries if we have history\n",
        "        if len(self.crop_history) >= 5:\n",
        "            # Get recent crop boundaries\n",
        "            recent_lefts = [c[0] for c in list(self.crop_history)[-5:]]\n",
        "            recent_rights = [c[1] for c in list(self.crop_history)[-5:]]\n",
        "\n",
        "            # Smooth the boundaries with weighted average\n",
        "            # More weight on recent frames but not too aggressive\n",
        "            weights = [0.1, 0.15, 0.2, 0.25, 0.3]\n",
        "            smooth_left = int(sum(l * w for l, w in zip(recent_lefts, weights)))\n",
        "            smooth_right = int(sum(r * w for r, w in zip(recent_rights, weights)))\n",
        "\n",
        "            # Ensure we maintain the correct width\n",
        "            if smooth_right - smooth_left != target_width:\n",
        "                center = (smooth_left + smooth_right) // 2\n",
        "                smooth_left = max(0, center - target_width // 2)\n",
        "                smooth_right = min(w, smooth_left + target_width)\n",
        "\n",
        "                # Adjust again if needed\n",
        "                if smooth_right == w:\n",
        "                    smooth_left = max(0, w - target_width)\n",
        "                if smooth_left == 0:\n",
        "                    smooth_right = min(w, target_width)\n",
        "\n",
        "            left, right = smooth_left, smooth_right\n",
        "\n",
        "        # Perform the crop\n",
        "        cropped = frame[:, left:right]\n",
        "\n",
        "        # Return both the cropped frame and focus point data\n",
        "        return cropped, {\n",
        "            \"time\": None,  # Will be set later\n",
        "            \"original_frame\": {\"width\": w, \"height\": h},\n",
        "            \"focus_point\": {\"x\": x_center, \"y\": y_center},\n",
        "            \"crop\": {\"left\": left, \"right\": right, \"top\": 0, \"bottom\": h}\n",
        "        }\n",
        "\n",
        "    def process_video(self, input_path, output_path, fps=None, temp_dir=\"temp_frames\"):\n",
        "        \"\"\"Process the whole video with anti-flickering techniques\"\"\"\n",
        "        # Create temp directory for frames if it doesn't exist\n",
        "        os.makedirs(temp_dir, exist_ok=True)\n",
        "\n",
        "        # Open input video\n",
        "        cap = cv2.VideoCapture(input_path)\n",
        "        if not cap.isOpened():\n",
        "            raise ValueError(f\"Could not open video file: {input_path}\")\n",
        "\n",
        "        # Get video properties\n",
        "        width = int(cap.get(cv2.CAP_PROP_FRAME_WIDTH))\n",
        "        height = int(cap.get(cv2.CAP_PROP_FRAME_HEIGHT))\n",
        "        original_fps = cap.get(cv2.CAP_PROP_FPS)\n",
        "        total_frames = int(cap.get(cv2.CAP_PROP_FRAME_COUNT))\n",
        "\n",
        "        # Use original fps if not specified\n",
        "        if fps is None:\n",
        "            fps = original_fps\n",
        "\n",
        "        # Detect scenes and store scene boundaries\n",
        "        print(\"Detecting scene boundaries...\")\n",
        "        scenes = self.detect_scenes(input_path)\n",
        "        if not scenes:\n",
        "            # If no scenes detected, treat the whole video as one scene\n",
        "            scenes = [(0, total_frames)]\n",
        "            self.shot_boundaries = [(0, total_frames)]\n",
        "\n",
        "        print(f\"Detected {len(scenes)} scenes in the video\")\n",
        "\n",
        "        # Output dimensions for 9:16 aspect ratio based on original height\n",
        "        out_width = int(height * 9 / 16)\n",
        "\n",
        "        # Reset tracking for new video\n",
        "        self.current_shot_id = 0\n",
        "        self.prev_focus_point = None\n",
        "        self.focus_point_history.clear()\n",
        "        self.crop_history.clear()\n",
        "        self.focus_points_data = []\n",
        "\n",
        "        # Create temporary video path for frames only\n",
        "        temp_video_path = os.path.splitext(output_path)[0] + \"_temp.mp4\"\n",
        "        fourcc = cv2.VideoWriter_fourcc(*'mp4v')\n",
        "        out = cv2.VideoWriter(temp_video_path, fourcc, fps, (out_width, height))\n",
        "\n",
        "        # Process frames\n",
        "        prev_frame = None\n",
        "        frame_count = 0\n",
        "\n",
        "        with tqdm(total=total_frames, desc=\"Processing frames\") as progress_bar:\n",
        "            while True:\n",
        "                ret, frame = cap.read()\n",
        "                if not ret:\n",
        "                    break\n",
        "\n",
        "                # Calculate current time in seconds\n",
        "                current_time = frame_count / original_fps\n",
        "\n",
        "                # Get focus point\n",
        "                focus_point = self.get_focus_point(frame, prev_frame, frame_count)\n",
        "\n",
        "                # Apply advanced smoothing\n",
        "                smooth_point = self.adaptive_smooth_focus_point(focus_point, frame_count, self.current_shot_id)\n",
        "\n",
        "                # Apply stabilized cropping\n",
        "                cropped_frame, focus_data = self.crop_with_stability(frame, smooth_point)\n",
        "\n",
        "                # Add timestamp to focus data\n",
        "                focus_data[\"time\"] = current_time\n",
        "                focus_data[\"frame\"] = frame_count\n",
        "                focus_data[\"shot_id\"] = self.current_shot_id\n",
        "                self.focus_points_data.append(focus_data)\n",
        "\n",
        "                # Add visual indicator of focus point (for debugging)\n",
        "                #cv2.circle(frame, smooth_point, 10, (0, 255, 0), -1)\n",
        "                #cv2.rectangle(frame, (focus_data[\"crop\"][\"left\"], 0),\n",
        "                #             (focus_data[\"crop\"][\"right\"], height), (0, 0, 255), 2)\n",
        "\n",
        "                # Write frame to output video\n",
        "                out.write(cropped_frame)\n",
        "\n",
        "                # Update for next iteration\n",
        "                prev_frame = frame.copy()\n",
        "                frame_count += 1\n",
        "                progress_bar.update(1)\n",
        "\n",
        "        # Clean up video capture and writer\n",
        "        cap.release()\n",
        "        out.release()\n",
        "\n",
        "        # Combine the processed video with the original audio using FFmpeg\n",
        "        self.combine_video_with_audio(input_path, temp_video_path, output_path)\n",
        "\n",
        "        # Remove temporary video file\n",
        "        if os.path.exists(temp_video_path):\n",
        "            os.remove(temp_video_path)\n",
        "\n",
        "        # Export focus points data as JSON\n",
        "        tracking_data_path = os.path.splitext(output_path)[0] + \"_tracking.json\"\n",
        "        with open(tracking_data_path, 'w') as f:\n",
        "            json.dump({\"focus_points\": self.focus_points_data}, f, indent=2)\n",
        "\n",
        "        return output_path, tracking_data_path\n",
        "\n",
        "    def combine_video_with_audio(self, original_video, processed_video, output_path):\n",
        "        \"\"\"Combine the processed video with the original audio using FFmpeg\"\"\"\n",
        "        try:\n",
        "            print(\"Adding audio track to the processed video...\")\n",
        "            # Command to extract audio from original video and combine with new video\n",
        "            ffmpeg_cmd = [\n",
        "                'ffmpeg',\n",
        "                '-i', processed_video,  # Input processed video (no audio)\n",
        "                '-i', original_video,   # Input original video (for audio)\n",
        "                '-c:v', 'copy',         # Copy video stream without re-encoding\n",
        "                '-c:a', 'aac',          # Use AAC codec for audio\n",
        "                '-map', '0:v:0',        # Use video from first input\n",
        "                '-map', '1:a:0',        # Use audio from second input\n",
        "                '-shortest',            # Finish encoding when the shortest input stream ends\n",
        "                '-y',                   # Overwrite output file if it exists\n",
        "                output_path\n",
        "            ]\n",
        "\n",
        "            # Run the FFmpeg command\n",
        "            subprocess.run(ffmpeg_cmd, check=True, stdout=subprocess.PIPE, stderr=subprocess.PIPE)\n",
        "            print(f\"Successfully added audio to: {output_path}\")\n",
        "\n",
        "        except subprocess.CalledProcessError as e:\n",
        "            print(f\"Error adding audio: {e}\")\n",
        "            print(f\"FFmpeg stderr: {e.stderr.decode() if e.stderr else 'No error output'}\")\n",
        "            # If FFmpeg fails, just use the video without audio\n",
        "            import shutil\n",
        "            shutil.copy(processed_video, output_path)\n",
        "            print(f\"Using video without audio: {output_path}\")\n",
        "        except Exception as e:\n",
        "            print(f\"Unexpected error adding audio: {e}\")\n",
        "            # If another error occurs, just use the video without audio\n",
        "            import shutil\n",
        "            shutil.copy(processed_video, output_path)\n",
        "            print(f\"Using video without audio: {output_path}\")\n",
        "\n",
        "# Example usage\n",
        "if __name__ == \"__main__\":\n",
        "    processor = H2VProcessor()\n",
        "\n",
        "    input_video = \"input_video.mp4\"  # Replace with your video path\n",
        "    output_video = \"output_vertical_video.mp4\"\n",
        "\n",
        "    video_path, tracking_data = processor.process_video(input_video, output_video)\n",
        "    print(f\"Processing complete. Vertical video saved to: {video_path}\")\n",
        "    print(f\"Tracking data saved to: {tracking_data}\")"
      ]
    },
    {
      "cell_type": "code",
      "execution_count": null,
      "metadata": {
        "colab": {
          "background_save": true
        },
        "id": "SdQdrqHroGKh"
      },
      "outputs": [],
      "source": [
        "# prompt: play video\n",
        "\n",
        "from IPython.display import HTML\n",
        "from base64 import b64encode\n",
        "\n",
        "# Replace 'your_video.mp4' with the actual path to your video file\n",
        "mp4 = open('output_vertical_video.mp4','rb').read()\n",
        "data_url = \"data:video/mp4;base64,\" + b64encode(mp4).decode()\n",
        "HTML(\"\"\"\n",
        "<video width=400 controls>\n",
        "      <source src=\"%s\" type=\"video/mp4\">\n",
        "</video>\n",
        "\"\"\" % data_url)\n"
      ]
    }
  ],
  "metadata": {
    "colab": {
      "provenance": []
    },
    "kernelspec": {
      "display_name": "Python 3",
      "name": "python3"
    },
    "language_info": {
      "name": "python"
    }
  },
  "nbformat": 4,
  "nbformat_minor": 0
}
